{
 "cells": [
  {
   "cell_type": "code",
   "execution_count": 11,
   "metadata": {},
   "outputs": [],
   "source": [
    "from sklearn.tree import DecisionTreeRegressor\n",
    "from sklearn.ensemble import RandomForestRegressor\n",
    "from sklearn.model_selection import GridSearchCV\n",
    "from sklearn.model_selection import train_test_split\n",
    "from sklearn.metrics import mean_absolute_error\n",
    "import numpy as np\n",
    "import pandas as pd"
   ]
  },
  {
   "cell_type": "code",
   "execution_count": 12,
   "metadata": {},
   "outputs": [
    {
     "data": {
      "text/html": [
       "<div>\n",
       "<style scoped>\n",
       "    .dataframe tbody tr th:only-of-type {\n",
       "        vertical-align: middle;\n",
       "    }\n",
       "\n",
       "    .dataframe tbody tr th {\n",
       "        vertical-align: top;\n",
       "    }\n",
       "\n",
       "    .dataframe thead th {\n",
       "        text-align: right;\n",
       "    }\n",
       "</style>\n",
       "<table border=\"1\" class=\"dataframe\">\n",
       "  <thead>\n",
       "    <tr style=\"text-align: right;\">\n",
       "      <th></th>\n",
       "      <th>ЖК</th>\n",
       "      <th>index()</th>\n",
       "      <th>Регион</th>\n",
       "      <th>Населенный пункт</th>\n",
       "      <th>Группа компаний</th>\n",
       "      <th>ID проекта</th>\n",
       "      <th>Класс недвижимости</th>\n",
       "      <th>Статус</th>\n",
       "      <th>Продано квартир, руб</th>\n",
       "      <th>Продано нежилых, шт</th>\n",
       "      <th>...</th>\n",
       "      <th>Месяц_Май 2022</th>\n",
       "      <th>Месяц_Март 2021</th>\n",
       "      <th>Месяц_Март 2022</th>\n",
       "      <th>Месяц_Ноябрь 2021</th>\n",
       "      <th>Месяц_Октябрь 2021</th>\n",
       "      <th>Месяц_Сентябрь 2021</th>\n",
       "      <th>Месяц_Февраль 2021</th>\n",
       "      <th>Месяц_Февраль 2022</th>\n",
       "      <th>Месяц_Январь 2021</th>\n",
       "      <th>Месяц_Январь 2022</th>\n",
       "    </tr>\n",
       "  </thead>\n",
       "  <tbody>\n",
       "    <tr>\n",
       "      <th>0</th>\n",
       "      <td>Восход 40376</td>\n",
       "      <td>258</td>\n",
       "      <td>Приморский край</td>\n",
       "      <td>Артем</td>\n",
       "      <td>СЗВОСХОД</td>\n",
       "      <td>11228</td>\n",
       "      <td>-1.341444</td>\n",
       "      <td>-0.321288</td>\n",
       "      <td>-0.889197</td>\n",
       "      <td>-0.287707</td>\n",
       "      <td>...</td>\n",
       "      <td>-0.262202</td>\n",
       "      <td>-0.1675</td>\n",
       "      <td>-0.290803</td>\n",
       "      <td>-0.240275</td>\n",
       "      <td>-0.219108</td>\n",
       "      <td>-0.22154</td>\n",
       "      <td>-0.164399</td>\n",
       "      <td>-0.276767</td>\n",
       "      <td>-0.161245</td>\n",
       "      <td>-0.253605</td>\n",
       "    </tr>\n",
       "    <tr>\n",
       "      <th>1</th>\n",
       "      <td>Восход 40376</td>\n",
       "      <td>261</td>\n",
       "      <td>Приморский край</td>\n",
       "      <td>Артем</td>\n",
       "      <td>СЗВОСХОД</td>\n",
       "      <td>11228</td>\n",
       "      <td>-1.341444</td>\n",
       "      <td>-0.321288</td>\n",
       "      <td>-0.824694</td>\n",
       "      <td>-0.287707</td>\n",
       "      <td>...</td>\n",
       "      <td>-0.262202</td>\n",
       "      <td>-0.1675</td>\n",
       "      <td>-0.290803</td>\n",
       "      <td>4.161902</td>\n",
       "      <td>-0.219108</td>\n",
       "      <td>-0.22154</td>\n",
       "      <td>-0.164399</td>\n",
       "      <td>-0.276767</td>\n",
       "      <td>-0.161245</td>\n",
       "      <td>-0.253605</td>\n",
       "    </tr>\n",
       "    <tr>\n",
       "      <th>2</th>\n",
       "      <td>Восход 40376</td>\n",
       "      <td>262</td>\n",
       "      <td>Приморский край</td>\n",
       "      <td>Артем</td>\n",
       "      <td>СЗВОСХОД</td>\n",
       "      <td>11228</td>\n",
       "      <td>-1.341444</td>\n",
       "      <td>-0.321288</td>\n",
       "      <td>-0.849961</td>\n",
       "      <td>-0.287707</td>\n",
       "      <td>...</td>\n",
       "      <td>-0.262202</td>\n",
       "      <td>-0.1675</td>\n",
       "      <td>-0.290803</td>\n",
       "      <td>-0.240275</td>\n",
       "      <td>-0.219108</td>\n",
       "      <td>-0.22154</td>\n",
       "      <td>-0.164399</td>\n",
       "      <td>-0.276767</td>\n",
       "      <td>-0.161245</td>\n",
       "      <td>-0.253605</td>\n",
       "    </tr>\n",
       "    <tr>\n",
       "      <th>3</th>\n",
       "      <td>Восход 40376</td>\n",
       "      <td>263</td>\n",
       "      <td>Приморский край</td>\n",
       "      <td>Артем</td>\n",
       "      <td>СЗВОСХОД</td>\n",
       "      <td>11228</td>\n",
       "      <td>-1.341444</td>\n",
       "      <td>-0.321288</td>\n",
       "      <td>-0.810597</td>\n",
       "      <td>-0.287707</td>\n",
       "      <td>...</td>\n",
       "      <td>-0.262202</td>\n",
       "      <td>-0.1675</td>\n",
       "      <td>-0.290803</td>\n",
       "      <td>-0.240275</td>\n",
       "      <td>-0.219108</td>\n",
       "      <td>-0.22154</td>\n",
       "      <td>-0.164399</td>\n",
       "      <td>-0.276767</td>\n",
       "      <td>-0.161245</td>\n",
       "      <td>3.943144</td>\n",
       "    </tr>\n",
       "    <tr>\n",
       "      <th>4</th>\n",
       "      <td>Восход 40376</td>\n",
       "      <td>264</td>\n",
       "      <td>Приморский край</td>\n",
       "      <td>Артем</td>\n",
       "      <td>СЗВОСХОД</td>\n",
       "      <td>11228</td>\n",
       "      <td>-1.341444</td>\n",
       "      <td>-0.321288</td>\n",
       "      <td>-0.868588</td>\n",
       "      <td>-0.287707</td>\n",
       "      <td>...</td>\n",
       "      <td>-0.262202</td>\n",
       "      <td>-0.1675</td>\n",
       "      <td>-0.290803</td>\n",
       "      <td>-0.240275</td>\n",
       "      <td>-0.219108</td>\n",
       "      <td>-0.22154</td>\n",
       "      <td>-0.164399</td>\n",
       "      <td>3.613142</td>\n",
       "      <td>-0.161245</td>\n",
       "      <td>-0.253605</td>\n",
       "    </tr>\n",
       "  </tbody>\n",
       "</table>\n",
       "<p>5 rows × 164 columns</p>\n",
       "</div>"
      ],
      "text/plain": [
       "             ЖК index()           Регион Населенный пункт Группа компаний  \\\n",
       "0  Восход 40376     258  Приморский край            Артем        СЗВОСХОД   \n",
       "1  Восход 40376     261  Приморский край            Артем        СЗВОСХОД   \n",
       "2  Восход 40376     262  Приморский край            Артем        СЗВОСХОД   \n",
       "3  Восход 40376     263  Приморский край            Артем        СЗВОСХОД   \n",
       "4  Восход 40376     264  Приморский край            Артем        СЗВОСХОД   \n",
       "\n",
       "   ID проекта  Класс недвижимости    Статус  Продано квартир, руб  \\\n",
       "0       11228           -1.341444 -0.321288             -0.889197   \n",
       "1       11228           -1.341444 -0.321288             -0.824694   \n",
       "2       11228           -1.341444 -0.321288             -0.849961   \n",
       "3       11228           -1.341444 -0.321288             -0.810597   \n",
       "4       11228           -1.341444 -0.321288             -0.868588   \n",
       "\n",
       "   Продано нежилых, шт  ...  Месяц_Май 2022  Месяц_Март 2021  Месяц_Март 2022  \\\n",
       "0            -0.287707  ...       -0.262202          -0.1675        -0.290803   \n",
       "1            -0.287707  ...       -0.262202          -0.1675        -0.290803   \n",
       "2            -0.287707  ...       -0.262202          -0.1675        -0.290803   \n",
       "3            -0.287707  ...       -0.262202          -0.1675        -0.290803   \n",
       "4            -0.287707  ...       -0.262202          -0.1675        -0.290803   \n",
       "\n",
       "   Месяц_Ноябрь 2021  Месяц_Октябрь 2021  Месяц_Сентябрь 2021  \\\n",
       "0          -0.240275           -0.219108             -0.22154   \n",
       "1           4.161902           -0.219108             -0.22154   \n",
       "2          -0.240275           -0.219108             -0.22154   \n",
       "3          -0.240275           -0.219108             -0.22154   \n",
       "4          -0.240275           -0.219108             -0.22154   \n",
       "\n",
       "   Месяц_Февраль 2021 Месяц_Февраль 2022 Месяц_Январь 2021  Месяц_Январь 2022  \n",
       "0           -0.164399          -0.276767         -0.161245          -0.253605  \n",
       "1           -0.164399          -0.276767         -0.161245          -0.253605  \n",
       "2           -0.164399          -0.276767         -0.161245          -0.253605  \n",
       "3           -0.164399          -0.276767         -0.161245           3.943144  \n",
       "4           -0.164399           3.613142         -0.161245          -0.253605  \n",
       "\n",
       "[5 rows x 164 columns]"
      ]
     },
     "execution_count": 12,
     "metadata": {},
     "output_type": "execute_result"
    }
   ],
   "source": [
    "df = pd.read_excel(r'../data/result_prepared_df.xlsx', index_col=0)\n",
    "df.head()"
   ]
  },
  {
   "cell_type": "markdown",
   "metadata": {},
   "source": [
    "# Дерево решений"
   ]
  },
  {
   "cell_type": "code",
   "execution_count": 13,
   "metadata": {},
   "outputs": [
    {
     "name": "stdout",
     "output_type": "stream",
     "text": [
      "(718, 155) (718,)\n",
      "(308, 155) (308,)\n"
     ]
    }
   ],
   "source": [
    "x = df.drop(['Таргет'], axis=1)\n",
    "y = df['Таргет']\n",
    "\n",
    "x_train, x_test, y_train, y_test = train_test_split(x, y, test_size=0.3, shuffle=True)\n",
    "\n",
    "x_train_numeric = x_train.select_dtypes(include=[np.number])\n",
    "x_test_numeric = x_test.select_dtypes(include=[np.number])\n",
    "\n",
    "# размерность обучающей\n",
    "print(x_train_numeric.shape, y_train.shape)\n",
    " \n",
    "# и тестовой выборки\n",
    "print(x_test_numeric.shape, y_test.shape)"
   ]
  },
  {
   "cell_type": "code",
   "execution_count": 14,
   "metadata": {},
   "outputs": [
    {
     "data": {
      "text/plain": [
       "(np.float64(15631.114392624677), np.float64(1079.1622945253996))"
      ]
     },
     "execution_count": 14,
     "metadata": {},
     "output_type": "execute_result"
    }
   ],
   "source": [
    "mae_list = []\n",
    "clf = DecisionTreeRegressor(random_state=42)\n",
    "\n",
    "for i in range(50):    \n",
    "    x_train, x_test, y_train, y_test = train_test_split(x, y, test_size=0.3, shuffle=True)\n",
    "\n",
    "    x_train_numeric = x_train.select_dtypes(include=[np.number])\n",
    "    x_test_numeric = x_test.select_dtypes(include=[np.number])\n",
    "\n",
    "    clf.fit(x_train_numeric, y_train)\n",
    "\n",
    "    y_pred = clf.predict(x_test_numeric)\n",
    "\n",
    "    mae_list.append(mean_absolute_error(y_test, y_pred))\n",
    "\n",
    "np.mean(mae_list), np.std(mae_list)\n"
   ]
  },
  {
   "cell_type": "code",
   "execution_count": 15,
   "metadata": {},
   "outputs": [
    {
     "data": {
      "text/plain": [
       "{'ccp_alpha': 0.0,\n",
       " 'criterion': 'squared_error',\n",
       " 'max_depth': None,\n",
       " 'max_features': None,\n",
       " 'max_leaf_nodes': None,\n",
       " 'min_impurity_decrease': 0.0,\n",
       " 'min_samples_leaf': 1,\n",
       " 'min_samples_split': 2,\n",
       " 'min_weight_fraction_leaf': 0.0,\n",
       " 'monotonic_cst': None,\n",
       " 'random_state': 42,\n",
       " 'splitter': 'best'}"
      ]
     },
     "execution_count": 15,
     "metadata": {},
     "output_type": "execute_result"
    }
   ],
   "source": [
    "clf.get_params()"
   ]
  },
  {
   "cell_type": "markdown",
   "metadata": {},
   "source": [
    "# Случайный лес"
   ]
  },
  {
   "cell_type": "code",
   "execution_count": 16,
   "metadata": {},
   "outputs": [
    {
     "data": {
      "text/plain": [
       "(np.float64(12154.718203592303), np.float64(614.5552771220268))"
      ]
     },
     "execution_count": 16,
     "metadata": {},
     "output_type": "execute_result"
    }
   ],
   "source": [
    "rf_mae_list = []\n",
    "base_rf = RandomForestRegressor(random_state=42)\n",
    "\n",
    "for i in range(10):\n",
    "    x_train, x_test, y_train, y_test = train_test_split(x, y, test_size=0.3, shuffle=True)\n",
    "\n",
    "    x_train_numeric = x_train.select_dtypes(include=[np.number])\n",
    "    x_test_numeric = x_test.select_dtypes(include=[np.number])\n",
    "\n",
    "    base_rf.fit(x_train_numeric, y_train)\n",
    "\n",
    "    y_base_rf_pred = base_rf.predict(x_test_numeric)\n",
    "\n",
    "    rf_mae_list.append(mean_absolute_error(y_test, y_base_rf_pred))\n",
    "\n",
    "np.mean(rf_mae_list), np.std(rf_mae_list)\n"
   ]
  },
  {
   "cell_type": "code",
   "execution_count": 17,
   "metadata": {},
   "outputs": [
    {
     "name": "stdout",
     "output_type": "stream",
     "text": [
      "Fitting 5 folds for each of 6 candidates, totalling 30 fits\n"
     ]
    },
    {
     "data": {
      "text/plain": [
       "{'max_features': 'sqrt', 'min_samples_leaf': 1, 'n_estimators': 700}"
      ]
     },
     "execution_count": 17,
     "metadata": {},
     "output_type": "execute_result"
    }
   ],
   "source": [
    "param_grid = {\n",
    "   'n_estimators': list(range(500, 701, 100)),\n",
    "   'max_features': ['sqrt'],\n",
    "   'min_samples_leaf': list(range(1, 3))\n",
    "}\n",
    "\n",
    "rf = RandomForestRegressor(random_state=42)\n",
    "\n",
    "x_train, x_test, y_train, y_test = train_test_split(x, y, test_size=0.3, shuffle=True)\n",
    "\n",
    "x_train_numeric = x_train.select_dtypes(include=[np.number])\n",
    "x_test_numeric = x_test.select_dtypes(include=[np.number])\n",
    "\n",
    "grid_search_rf = GridSearchCV(\n",
    "   estimator=rf,\n",
    "   param_grid=param_grid,\n",
    "   scoring='neg_mean_absolute_error',\n",
    "   verbose=1,\n",
    "   n_jobs=-1\n",
    ")\n",
    "\n",
    "grid_search_rf.fit(x_train_numeric, y_train)\n",
    "\n",
    "# Выводим лучшие параметры\n",
    "best_params = grid_search_rf.best_params_\n",
    "best_params"
   ]
  },
  {
   "cell_type": "code",
   "execution_count": 18,
   "metadata": {},
   "outputs": [
    {
     "data": {
      "text/plain": [
       "(np.float64(13221.791957887031), np.float64(619.5416742337795))"
      ]
     },
     "execution_count": 18,
     "metadata": {},
     "output_type": "execute_result"
    }
   ],
   "source": [
    "rf_tuned_mae_list = []\n",
    "rf_tuned = RandomForestRegressor(**best_params, random_state=42)\n",
    "\n",
    "for i in range(10):\n",
    "    x_train, x_test, y_train, y_test = train_test_split(x, y, test_size=0.3, shuffle=True)\n",
    "\n",
    "    x_train_numeric = x_train.select_dtypes(include=[np.number])\n",
    "    x_test_numeric = x_test.select_dtypes(include=[np.number])\n",
    "\n",
    "    rf_tuned.fit(x_train_numeric, y_train)\n",
    "\n",
    "    y_rf_tuned_pred = rf_tuned.predict(x_test_numeric)\n",
    "\n",
    "    rf_tuned_mae_list.append(mean_absolute_error(y_test, y_rf_tuned_pred))\n",
    "\n",
    "np.mean(rf_tuned_mae_list), np.std(rf_tuned_mae_list)"
   ]
  },
  {
   "cell_type": "code",
   "execution_count": null,
   "metadata": {},
   "outputs": [],
   "source": []
  }
 ],
 "metadata": {
  "kernelspec": {
   "display_name": "Python 3 (ipykernel)",
   "language": "python",
   "name": "python3"
  },
  "language_info": {
   "codemirror_mode": {
    "name": "ipython",
    "version": 3
   },
   "file_extension": ".py",
   "mimetype": "text/x-python",
   "name": "python",
   "nbconvert_exporter": "python",
   "pygments_lexer": "ipython3",
   "version": "3.12.4"
  }
 },
 "nbformat": 4,
 "nbformat_minor": 4
}
