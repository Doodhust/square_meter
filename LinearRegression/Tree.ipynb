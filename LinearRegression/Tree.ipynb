{
 "cells": [
  {
   "cell_type": "code",
   "execution_count": 113,
   "metadata": {},
   "outputs": [],
   "source": [
    "from sklearn.tree import DecisionTreeRegressor\n",
    "from sklearn.ensemble import RandomForestRegressor\n",
    "from sklearn.model_selection import GridSearchCV\n",
    "from sklearn.model_selection import train_test_split\n",
    "from sklearn.metrics import mean_absolute_error\n",
    "import numpy as np\n",
    "import pandas as pd"
   ]
  },
  {
   "cell_type": "code",
   "execution_count": 114,
   "metadata": {},
   "outputs": [
    {
     "data": {
      "text/html": [
       "<div>\n",
       "<style scoped>\n",
       "    .dataframe tbody tr th:only-of-type {\n",
       "        vertical-align: middle;\n",
       "    }\n",
       "\n",
       "    .dataframe tbody tr th {\n",
       "        vertical-align: top;\n",
       "    }\n",
       "\n",
       "    .dataframe thead th {\n",
       "        text-align: right;\n",
       "    }\n",
       "</style>\n",
       "<table border=\"1\" class=\"dataframe\">\n",
       "  <thead>\n",
       "    <tr style=\"text-align: right;\">\n",
       "      <th></th>\n",
       "      <th>ЖК</th>\n",
       "      <th>index()</th>\n",
       "      <th>Регион</th>\n",
       "      <th>Населенный пункт</th>\n",
       "      <th>Группа компаний</th>\n",
       "      <th>ID проекта</th>\n",
       "      <th>Класс недвижимости</th>\n",
       "      <th>Статус</th>\n",
       "      <th>Месяц</th>\n",
       "      <th>Продано квартир, руб</th>\n",
       "      <th>...</th>\n",
       "      <th>Вспомогательный материал фасада_Стекло</th>\n",
       "      <th>Тип дома_Другой</th>\n",
       "      <th>Тип дома_Монолит</th>\n",
       "      <th>Тип дома_Монолитный каркас</th>\n",
       "      <th>Тип дома_Панель</th>\n",
       "      <th>Тип фасада_Другой</th>\n",
       "      <th>Тип фасада_Кирпич</th>\n",
       "      <th>Тип фасада_Навесной фасад</th>\n",
       "      <th>Тип фасада_Панель</th>\n",
       "      <th>Тип фасада_Стекло</th>\n",
       "    </tr>\n",
       "  </thead>\n",
       "  <tbody>\n",
       "    <tr>\n",
       "      <th>0</th>\n",
       "      <td>Восход 40376</td>\n",
       "      <td>258</td>\n",
       "      <td>Приморский край</td>\n",
       "      <td>Артем</td>\n",
       "      <td>СЗВОСХОД</td>\n",
       "      <td>11228</td>\n",
       "      <td>-1.341444</td>\n",
       "      <td>-0.321288</td>\n",
       "      <td>Август 2021</td>\n",
       "      <td>-0.889197</td>\n",
       "      <td>...</td>\n",
       "      <td>1.640319</td>\n",
       "      <td>-0.190693</td>\n",
       "      <td>0.498172</td>\n",
       "      <td>-0.351806</td>\n",
       "      <td>-0.237997</td>\n",
       "      <td>-0.513368</td>\n",
       "      <td>-0.716432</td>\n",
       "      <td>-0.534522</td>\n",
       "      <td>1.892183</td>\n",
       "      <td>-0.108786</td>\n",
       "    </tr>\n",
       "    <tr>\n",
       "      <th>1</th>\n",
       "      <td>Восход 40376</td>\n",
       "      <td>261</td>\n",
       "      <td>Приморский край</td>\n",
       "      <td>Артем</td>\n",
       "      <td>СЗВОСХОД</td>\n",
       "      <td>11228</td>\n",
       "      <td>-1.341444</td>\n",
       "      <td>-0.321288</td>\n",
       "      <td>Ноябрь 2021</td>\n",
       "      <td>-0.824694</td>\n",
       "      <td>...</td>\n",
       "      <td>1.640319</td>\n",
       "      <td>-0.190693</td>\n",
       "      <td>0.498172</td>\n",
       "      <td>-0.351806</td>\n",
       "      <td>-0.237997</td>\n",
       "      <td>-0.513368</td>\n",
       "      <td>-0.716432</td>\n",
       "      <td>-0.534522</td>\n",
       "      <td>1.892183</td>\n",
       "      <td>-0.108786</td>\n",
       "    </tr>\n",
       "    <tr>\n",
       "      <th>2</th>\n",
       "      <td>Восход 40376</td>\n",
       "      <td>262</td>\n",
       "      <td>Приморский край</td>\n",
       "      <td>Артем</td>\n",
       "      <td>СЗВОСХОД</td>\n",
       "      <td>11228</td>\n",
       "      <td>-1.341444</td>\n",
       "      <td>-0.321288</td>\n",
       "      <td>Декабрь 2021</td>\n",
       "      <td>-0.849961</td>\n",
       "      <td>...</td>\n",
       "      <td>1.640319</td>\n",
       "      <td>-0.190693</td>\n",
       "      <td>0.498172</td>\n",
       "      <td>-0.351806</td>\n",
       "      <td>-0.237997</td>\n",
       "      <td>-0.513368</td>\n",
       "      <td>-0.716432</td>\n",
       "      <td>-0.534522</td>\n",
       "      <td>1.892183</td>\n",
       "      <td>-0.108786</td>\n",
       "    </tr>\n",
       "    <tr>\n",
       "      <th>3</th>\n",
       "      <td>Восход 40376</td>\n",
       "      <td>263</td>\n",
       "      <td>Приморский край</td>\n",
       "      <td>Артем</td>\n",
       "      <td>СЗВОСХОД</td>\n",
       "      <td>11228</td>\n",
       "      <td>-1.341444</td>\n",
       "      <td>-0.321288</td>\n",
       "      <td>Январь 2022</td>\n",
       "      <td>-0.810597</td>\n",
       "      <td>...</td>\n",
       "      <td>1.640319</td>\n",
       "      <td>-0.190693</td>\n",
       "      <td>0.498172</td>\n",
       "      <td>-0.351806</td>\n",
       "      <td>-0.237997</td>\n",
       "      <td>-0.513368</td>\n",
       "      <td>-0.716432</td>\n",
       "      <td>-0.534522</td>\n",
       "      <td>1.892183</td>\n",
       "      <td>-0.108786</td>\n",
       "    </tr>\n",
       "    <tr>\n",
       "      <th>4</th>\n",
       "      <td>Восход 40376</td>\n",
       "      <td>264</td>\n",
       "      <td>Приморский край</td>\n",
       "      <td>Артем</td>\n",
       "      <td>СЗВОСХОД</td>\n",
       "      <td>11228</td>\n",
       "      <td>-1.341444</td>\n",
       "      <td>-0.321288</td>\n",
       "      <td>Февраль 2022</td>\n",
       "      <td>-0.868588</td>\n",
       "      <td>...</td>\n",
       "      <td>1.640319</td>\n",
       "      <td>-0.190693</td>\n",
       "      <td>0.498172</td>\n",
       "      <td>-0.351806</td>\n",
       "      <td>-0.237997</td>\n",
       "      <td>-0.513368</td>\n",
       "      <td>-0.716432</td>\n",
       "      <td>-0.534522</td>\n",
       "      <td>1.892183</td>\n",
       "      <td>-0.108786</td>\n",
       "    </tr>\n",
       "  </tbody>\n",
       "</table>\n",
       "<p>5 rows × 145 columns</p>\n",
       "</div>"
      ],
      "text/plain": [
       "             ЖК index()           Регион Населенный пункт Группа компаний  \\\n",
       "0  Восход 40376     258  Приморский край            Артем        СЗВОСХОД   \n",
       "1  Восход 40376     261  Приморский край            Артем        СЗВОСХОД   \n",
       "2  Восход 40376     262  Приморский край            Артем        СЗВОСХОД   \n",
       "3  Восход 40376     263  Приморский край            Артем        СЗВОСХОД   \n",
       "4  Восход 40376     264  Приморский край            Артем        СЗВОСХОД   \n",
       "\n",
       "   ID проекта  Класс недвижимости    Статус         Месяц  \\\n",
       "0       11228           -1.341444 -0.321288   Август 2021   \n",
       "1       11228           -1.341444 -0.321288   Ноябрь 2021   \n",
       "2       11228           -1.341444 -0.321288  Декабрь 2021   \n",
       "3       11228           -1.341444 -0.321288   Январь 2022   \n",
       "4       11228           -1.341444 -0.321288  Февраль 2022   \n",
       "\n",
       "   Продано квартир, руб  ...  Вспомогательный материал фасада_Стекло  \\\n",
       "0             -0.889197  ...                                1.640319   \n",
       "1             -0.824694  ...                                1.640319   \n",
       "2             -0.849961  ...                                1.640319   \n",
       "3             -0.810597  ...                                1.640319   \n",
       "4             -0.868588  ...                                1.640319   \n",
       "\n",
       "   Тип дома_Другой  Тип дома_Монолит  Тип дома_Монолитный каркас  \\\n",
       "0        -0.190693          0.498172                   -0.351806   \n",
       "1        -0.190693          0.498172                   -0.351806   \n",
       "2        -0.190693          0.498172                   -0.351806   \n",
       "3        -0.190693          0.498172                   -0.351806   \n",
       "4        -0.190693          0.498172                   -0.351806   \n",
       "\n",
       "   Тип дома_Панель  Тип фасада_Другой  Тип фасада_Кирпич  \\\n",
       "0        -0.237997          -0.513368          -0.716432   \n",
       "1        -0.237997          -0.513368          -0.716432   \n",
       "2        -0.237997          -0.513368          -0.716432   \n",
       "3        -0.237997          -0.513368          -0.716432   \n",
       "4        -0.237997          -0.513368          -0.716432   \n",
       "\n",
       "   Тип фасада_Навесной фасад Тип фасада_Панель Тип фасада_Стекло  \n",
       "0                  -0.534522          1.892183         -0.108786  \n",
       "1                  -0.534522          1.892183         -0.108786  \n",
       "2                  -0.534522          1.892183         -0.108786  \n",
       "3                  -0.534522          1.892183         -0.108786  \n",
       "4                  -0.534522          1.892183         -0.108786  \n",
       "\n",
       "[5 rows x 145 columns]"
      ]
     },
     "execution_count": 114,
     "metadata": {},
     "output_type": "execute_result"
    }
   ],
   "source": [
    "df = pd.read_excel(r'../data/result_prepared_df.xlsx', index_col=0)\n",
    "df.head()"
   ]
  },
  {
   "cell_type": "markdown",
   "metadata": {},
   "source": [
    "# Дерево решений"
   ]
  },
  {
   "cell_type": "code",
   "execution_count": 115,
   "metadata": {},
   "outputs": [
    {
     "name": "stdout",
     "output_type": "stream",
     "text": [
      "(718, 135) (718,)\n",
      "(308, 135) (308,)\n"
     ]
    }
   ],
   "source": [
    "x = df.drop(['Таргет'], axis=1)\n",
    "y = df['Таргет']\n",
    "\n",
    "x_train, x_test, y_train, y_test = train_test_split(x, y, test_size=0.3, shuffle=True)\n",
    "\n",
    "x_train_numeric = x_train.select_dtypes(include=[np.number])\n",
    "x_test_numeric = x_test.select_dtypes(include=[np.number])\n",
    "\n",
    "# размерность обучающей\n",
    "print(x_train_numeric.shape, y_train.shape)\n",
    " \n",
    "# и тестовой выборки\n",
    "print(x_test_numeric.shape, y_test.shape)"
   ]
  },
  {
   "cell_type": "code",
   "execution_count": 116,
   "metadata": {},
   "outputs": [
    {
     "data": {
      "text/plain": [
       "(17190.011007846755, 941.9511624212728)"
      ]
     },
     "execution_count": 116,
     "metadata": {},
     "output_type": "execute_result"
    }
   ],
   "source": [
    "mae_list = []\n",
    "clf = DecisionTreeRegressor(random_state=42)\n",
    "\n",
    "for i in range(50):    \n",
    "    x_train, x_test, y_train, y_test = train_test_split(x, y, test_size=0.3, shuffle=True)\n",
    "\n",
    "    x_train_numeric = x_train.select_dtypes(include=[np.number])\n",
    "    x_test_numeric = x_test.select_dtypes(include=[np.number])\n",
    "\n",
    "    clf.fit(x_train_numeric, y_train)\n",
    "\n",
    "    y_pred = clf.predict(x_test_numeric)\n",
    "\n",
    "    mae_list.append(mean_absolute_error(y_test, y_pred))\n",
    "\n",
    "np.mean(mae_list), np.std(mae_list)\n"
   ]
  },
  {
   "cell_type": "code",
   "execution_count": 117,
   "metadata": {},
   "outputs": [
    {
     "data": {
      "text/plain": [
       "{'ccp_alpha': 0.0,\n",
       " 'criterion': 'squared_error',\n",
       " 'max_depth': None,\n",
       " 'max_features': None,\n",
       " 'max_leaf_nodes': None,\n",
       " 'min_impurity_decrease': 0.0,\n",
       " 'min_samples_leaf': 1,\n",
       " 'min_samples_split': 2,\n",
       " 'min_weight_fraction_leaf': 0.0,\n",
       " 'monotonic_cst': None,\n",
       " 'random_state': 42,\n",
       " 'splitter': 'best'}"
      ]
     },
     "execution_count": 117,
     "metadata": {},
     "output_type": "execute_result"
    }
   ],
   "source": [
    "clf.get_params()"
   ]
  },
  {
   "cell_type": "markdown",
   "metadata": {},
   "source": [
    "# Случайный лес"
   ]
  },
  {
   "cell_type": "code",
   "execution_count": 118,
   "metadata": {},
   "outputs": [
    {
     "data": {
      "text/plain": [
       "(13342.541379706197, 700.3598084951819)"
      ]
     },
     "execution_count": 118,
     "metadata": {},
     "output_type": "execute_result"
    }
   ],
   "source": [
    "rf_mae_list = []\n",
    "base_rf = RandomForestRegressor(random_state=42)\n",
    "\n",
    "for i in range(10):\n",
    "    x_train, x_test, y_train, y_test = train_test_split(x, y, test_size=0.3, shuffle=True)\n",
    "\n",
    "    x_train_numeric = x_train.select_dtypes(include=[np.number])\n",
    "    x_test_numeric = x_test.select_dtypes(include=[np.number])\n",
    "\n",
    "    base_rf.fit(x_train_numeric, y_train)\n",
    "\n",
    "    y_base_rf_pred = base_rf.predict(x_test_numeric)\n",
    "\n",
    "    rf_mae_list.append(mean_absolute_error(y_test, y_base_rf_pred))\n",
    "\n",
    "np.mean(rf_mae_list), np.std(rf_mae_list)\n"
   ]
  },
  {
   "cell_type": "code",
   "execution_count": 123,
   "metadata": {},
   "outputs": [
    {
     "name": "stdout",
     "output_type": "stream",
     "text": [
      "Fitting 5 folds for each of 6 candidates, totalling 30 fits\n"
     ]
    },
    {
     "ename": "KeyboardInterrupt",
     "evalue": "",
     "output_type": "error",
     "traceback": [
      "\u001b[0;31m---------------------------------------------------------------------------\u001b[0m",
      "\u001b[0;31mKeyboardInterrupt\u001b[0m                         Traceback (most recent call last)",
      "Cell \u001b[0;32mIn[123], line 22\u001b[0m\n\u001b[1;32m     12\u001b[0m x_test_numeric \u001b[38;5;241m=\u001b[39m x_test\u001b[38;5;241m.\u001b[39mselect_dtypes(include\u001b[38;5;241m=\u001b[39m[np\u001b[38;5;241m.\u001b[39mnumber])\n\u001b[1;32m     14\u001b[0m grid_search_rf \u001b[38;5;241m=\u001b[39m GridSearchCV(\n\u001b[1;32m     15\u001b[0m    estimator\u001b[38;5;241m=\u001b[39mrf,\n\u001b[1;32m     16\u001b[0m    param_grid\u001b[38;5;241m=\u001b[39mparam_grid,\n\u001b[0;32m   (...)\u001b[0m\n\u001b[1;32m     19\u001b[0m    n_jobs\u001b[38;5;241m=\u001b[39m\u001b[38;5;241m-\u001b[39m\u001b[38;5;241m1\u001b[39m\n\u001b[1;32m     20\u001b[0m )\n\u001b[0;32m---> 22\u001b[0m \u001b[43mgrid_search_rf\u001b[49m\u001b[38;5;241;43m.\u001b[39;49m\u001b[43mfit\u001b[49m\u001b[43m(\u001b[49m\u001b[43mx_train_numeric\u001b[49m\u001b[43m,\u001b[49m\u001b[43m \u001b[49m\u001b[43my_train\u001b[49m\u001b[43m)\u001b[49m\n\u001b[1;32m     24\u001b[0m \u001b[38;5;66;03m# Выводим лучшие параметры\u001b[39;00m\n\u001b[1;32m     25\u001b[0m best_params \u001b[38;5;241m=\u001b[39m grid_search_rf\u001b[38;5;241m.\u001b[39mbest_params_\n",
      "File \u001b[0;32m/var/data/python/lib/python3.11/site-packages/sklearn/base.py:1473\u001b[0m, in \u001b[0;36m_fit_context.<locals>.decorator.<locals>.wrapper\u001b[0;34m(estimator, *args, **kwargs)\u001b[0m\n\u001b[1;32m   1466\u001b[0m     estimator\u001b[38;5;241m.\u001b[39m_validate_params()\n\u001b[1;32m   1468\u001b[0m \u001b[38;5;28;01mwith\u001b[39;00m config_context(\n\u001b[1;32m   1469\u001b[0m     skip_parameter_validation\u001b[38;5;241m=\u001b[39m(\n\u001b[1;32m   1470\u001b[0m         prefer_skip_nested_validation \u001b[38;5;129;01mor\u001b[39;00m global_skip_validation\n\u001b[1;32m   1471\u001b[0m     )\n\u001b[1;32m   1472\u001b[0m ):\n\u001b[0;32m-> 1473\u001b[0m     \u001b[38;5;28;01mreturn\u001b[39;00m \u001b[43mfit_method\u001b[49m\u001b[43m(\u001b[49m\u001b[43mestimator\u001b[49m\u001b[43m,\u001b[49m\u001b[43m \u001b[49m\u001b[38;5;241;43m*\u001b[39;49m\u001b[43margs\u001b[49m\u001b[43m,\u001b[49m\u001b[43m \u001b[49m\u001b[38;5;241;43m*\u001b[39;49m\u001b[38;5;241;43m*\u001b[39;49m\u001b[43mkwargs\u001b[49m\u001b[43m)\u001b[49m\n",
      "File \u001b[0;32m/var/data/python/lib/python3.11/site-packages/sklearn/model_selection/_search.py:968\u001b[0m, in \u001b[0;36mBaseSearchCV.fit\u001b[0;34m(self, X, y, **params)\u001b[0m\n\u001b[1;32m    962\u001b[0m     results \u001b[38;5;241m=\u001b[39m \u001b[38;5;28mself\u001b[39m\u001b[38;5;241m.\u001b[39m_format_results(\n\u001b[1;32m    963\u001b[0m         all_candidate_params, n_splits, all_out, all_more_results\n\u001b[1;32m    964\u001b[0m     )\n\u001b[1;32m    966\u001b[0m     \u001b[38;5;28;01mreturn\u001b[39;00m results\n\u001b[0;32m--> 968\u001b[0m \u001b[38;5;28;43mself\u001b[39;49m\u001b[38;5;241;43m.\u001b[39;49m\u001b[43m_run_search\u001b[49m\u001b[43m(\u001b[49m\u001b[43mevaluate_candidates\u001b[49m\u001b[43m)\u001b[49m\n\u001b[1;32m    970\u001b[0m \u001b[38;5;66;03m# multimetric is determined here because in the case of a callable\u001b[39;00m\n\u001b[1;32m    971\u001b[0m \u001b[38;5;66;03m# self.scoring the return type is only known after calling\u001b[39;00m\n\u001b[1;32m    972\u001b[0m first_test_score \u001b[38;5;241m=\u001b[39m all_out[\u001b[38;5;241m0\u001b[39m][\u001b[38;5;124m\"\u001b[39m\u001b[38;5;124mtest_scores\u001b[39m\u001b[38;5;124m\"\u001b[39m]\n",
      "File \u001b[0;32m/var/data/python/lib/python3.11/site-packages/sklearn/model_selection/_search.py:1543\u001b[0m, in \u001b[0;36mGridSearchCV._run_search\u001b[0;34m(self, evaluate_candidates)\u001b[0m\n\u001b[1;32m   1541\u001b[0m \u001b[38;5;28;01mdef\u001b[39;00m \u001b[38;5;21m_run_search\u001b[39m(\u001b[38;5;28mself\u001b[39m, evaluate_candidates):\n\u001b[1;32m   1542\u001b[0m \u001b[38;5;250m    \u001b[39m\u001b[38;5;124;03m\"\"\"Search all candidates in param_grid\"\"\"\u001b[39;00m\n\u001b[0;32m-> 1543\u001b[0m     \u001b[43mevaluate_candidates\u001b[49m\u001b[43m(\u001b[49m\u001b[43mParameterGrid\u001b[49m\u001b[43m(\u001b[49m\u001b[38;5;28;43mself\u001b[39;49m\u001b[38;5;241;43m.\u001b[39;49m\u001b[43mparam_grid\u001b[49m\u001b[43m)\u001b[49m\u001b[43m)\u001b[49m\n",
      "File \u001b[0;32m/var/data/python/lib/python3.11/site-packages/sklearn/model_selection/_search.py:914\u001b[0m, in \u001b[0;36mBaseSearchCV.fit.<locals>.evaluate_candidates\u001b[0;34m(candidate_params, cv, more_results)\u001b[0m\n\u001b[1;32m    906\u001b[0m \u001b[38;5;28;01mif\u001b[39;00m \u001b[38;5;28mself\u001b[39m\u001b[38;5;241m.\u001b[39mverbose \u001b[38;5;241m>\u001b[39m \u001b[38;5;241m0\u001b[39m:\n\u001b[1;32m    907\u001b[0m     \u001b[38;5;28mprint\u001b[39m(\n\u001b[1;32m    908\u001b[0m         \u001b[38;5;124m\"\u001b[39m\u001b[38;5;124mFitting \u001b[39m\u001b[38;5;132;01m{0}\u001b[39;00m\u001b[38;5;124m folds for each of \u001b[39m\u001b[38;5;132;01m{1}\u001b[39;00m\u001b[38;5;124m candidates,\u001b[39m\u001b[38;5;124m\"\u001b[39m\n\u001b[1;32m    909\u001b[0m         \u001b[38;5;124m\"\u001b[39m\u001b[38;5;124m totalling \u001b[39m\u001b[38;5;132;01m{2}\u001b[39;00m\u001b[38;5;124m fits\u001b[39m\u001b[38;5;124m\"\u001b[39m\u001b[38;5;241m.\u001b[39mformat(\n\u001b[1;32m    910\u001b[0m             n_splits, n_candidates, n_candidates \u001b[38;5;241m*\u001b[39m n_splits\n\u001b[1;32m    911\u001b[0m         )\n\u001b[1;32m    912\u001b[0m     )\n\u001b[0;32m--> 914\u001b[0m out \u001b[38;5;241m=\u001b[39m \u001b[43mparallel\u001b[49m\u001b[43m(\u001b[49m\n\u001b[1;32m    915\u001b[0m \u001b[43m    \u001b[49m\u001b[43mdelayed\u001b[49m\u001b[43m(\u001b[49m\u001b[43m_fit_and_score\u001b[49m\u001b[43m)\u001b[49m\u001b[43m(\u001b[49m\n\u001b[1;32m    916\u001b[0m \u001b[43m        \u001b[49m\u001b[43mclone\u001b[49m\u001b[43m(\u001b[49m\u001b[43mbase_estimator\u001b[49m\u001b[43m)\u001b[49m\u001b[43m,\u001b[49m\n\u001b[1;32m    917\u001b[0m \u001b[43m        \u001b[49m\u001b[43mX\u001b[49m\u001b[43m,\u001b[49m\n\u001b[1;32m    918\u001b[0m \u001b[43m        \u001b[49m\u001b[43my\u001b[49m\u001b[43m,\u001b[49m\n\u001b[1;32m    919\u001b[0m \u001b[43m        \u001b[49m\u001b[43mtrain\u001b[49m\u001b[38;5;241;43m=\u001b[39;49m\u001b[43mtrain\u001b[49m\u001b[43m,\u001b[49m\n\u001b[1;32m    920\u001b[0m \u001b[43m        \u001b[49m\u001b[43mtest\u001b[49m\u001b[38;5;241;43m=\u001b[39;49m\u001b[43mtest\u001b[49m\u001b[43m,\u001b[49m\n\u001b[1;32m    921\u001b[0m \u001b[43m        \u001b[49m\u001b[43mparameters\u001b[49m\u001b[38;5;241;43m=\u001b[39;49m\u001b[43mparameters\u001b[49m\u001b[43m,\u001b[49m\n\u001b[1;32m    922\u001b[0m \u001b[43m        \u001b[49m\u001b[43msplit_progress\u001b[49m\u001b[38;5;241;43m=\u001b[39;49m\u001b[43m(\u001b[49m\u001b[43msplit_idx\u001b[49m\u001b[43m,\u001b[49m\u001b[43m \u001b[49m\u001b[43mn_splits\u001b[49m\u001b[43m)\u001b[49m\u001b[43m,\u001b[49m\n\u001b[1;32m    923\u001b[0m \u001b[43m        \u001b[49m\u001b[43mcandidate_progress\u001b[49m\u001b[38;5;241;43m=\u001b[39;49m\u001b[43m(\u001b[49m\u001b[43mcand_idx\u001b[49m\u001b[43m,\u001b[49m\u001b[43m \u001b[49m\u001b[43mn_candidates\u001b[49m\u001b[43m)\u001b[49m\u001b[43m,\u001b[49m\n\u001b[1;32m    924\u001b[0m \u001b[43m        \u001b[49m\u001b[38;5;241;43m*\u001b[39;49m\u001b[38;5;241;43m*\u001b[39;49m\u001b[43mfit_and_score_kwargs\u001b[49m\u001b[43m,\u001b[49m\n\u001b[1;32m    925\u001b[0m \u001b[43m    \u001b[49m\u001b[43m)\u001b[49m\n\u001b[1;32m    926\u001b[0m \u001b[43m    \u001b[49m\u001b[38;5;28;43;01mfor\u001b[39;49;00m\u001b[43m \u001b[49m\u001b[43m(\u001b[49m\u001b[43mcand_idx\u001b[49m\u001b[43m,\u001b[49m\u001b[43m \u001b[49m\u001b[43mparameters\u001b[49m\u001b[43m)\u001b[49m\u001b[43m,\u001b[49m\u001b[43m \u001b[49m\u001b[43m(\u001b[49m\u001b[43msplit_idx\u001b[49m\u001b[43m,\u001b[49m\u001b[43m \u001b[49m\u001b[43m(\u001b[49m\u001b[43mtrain\u001b[49m\u001b[43m,\u001b[49m\u001b[43m \u001b[49m\u001b[43mtest\u001b[49m\u001b[43m)\u001b[49m\u001b[43m)\u001b[49m\u001b[43m \u001b[49m\u001b[38;5;129;43;01min\u001b[39;49;00m\u001b[43m \u001b[49m\u001b[43mproduct\u001b[49m\u001b[43m(\u001b[49m\n\u001b[1;32m    927\u001b[0m \u001b[43m        \u001b[49m\u001b[38;5;28;43menumerate\u001b[39;49m\u001b[43m(\u001b[49m\u001b[43mcandidate_params\u001b[49m\u001b[43m)\u001b[49m\u001b[43m,\u001b[49m\n\u001b[1;32m    928\u001b[0m \u001b[43m        \u001b[49m\u001b[38;5;28;43menumerate\u001b[39;49m\u001b[43m(\u001b[49m\u001b[43mcv\u001b[49m\u001b[38;5;241;43m.\u001b[39;49m\u001b[43msplit\u001b[49m\u001b[43m(\u001b[49m\u001b[43mX\u001b[49m\u001b[43m,\u001b[49m\u001b[43m \u001b[49m\u001b[43my\u001b[49m\u001b[43m,\u001b[49m\u001b[43m \u001b[49m\u001b[38;5;241;43m*\u001b[39;49m\u001b[38;5;241;43m*\u001b[39;49m\u001b[43mrouted_params\u001b[49m\u001b[38;5;241;43m.\u001b[39;49m\u001b[43msplitter\u001b[49m\u001b[38;5;241;43m.\u001b[39;49m\u001b[43msplit\u001b[49m\u001b[43m)\u001b[49m\u001b[43m)\u001b[49m\u001b[43m,\u001b[49m\n\u001b[1;32m    929\u001b[0m \u001b[43m    \u001b[49m\u001b[43m)\u001b[49m\n\u001b[1;32m    930\u001b[0m \u001b[43m\u001b[49m\u001b[43m)\u001b[49m\n\u001b[1;32m    932\u001b[0m \u001b[38;5;28;01mif\u001b[39;00m \u001b[38;5;28mlen\u001b[39m(out) \u001b[38;5;241m<\u001b[39m \u001b[38;5;241m1\u001b[39m:\n\u001b[1;32m    933\u001b[0m     \u001b[38;5;28;01mraise\u001b[39;00m \u001b[38;5;167;01mValueError\u001b[39;00m(\n\u001b[1;32m    934\u001b[0m         \u001b[38;5;124m\"\u001b[39m\u001b[38;5;124mNo fits were performed. \u001b[39m\u001b[38;5;124m\"\u001b[39m\n\u001b[1;32m    935\u001b[0m         \u001b[38;5;124m\"\u001b[39m\u001b[38;5;124mWas the CV iterator empty? \u001b[39m\u001b[38;5;124m\"\u001b[39m\n\u001b[1;32m    936\u001b[0m         \u001b[38;5;124m\"\u001b[39m\u001b[38;5;124mWere there no candidates?\u001b[39m\u001b[38;5;124m\"\u001b[39m\n\u001b[1;32m    937\u001b[0m     )\n",
      "File \u001b[0;32m/var/data/python/lib/python3.11/site-packages/sklearn/utils/parallel.py:67\u001b[0m, in \u001b[0;36mParallel.__call__\u001b[0;34m(self, iterable)\u001b[0m\n\u001b[1;32m     62\u001b[0m config \u001b[38;5;241m=\u001b[39m get_config()\n\u001b[1;32m     63\u001b[0m iterable_with_config \u001b[38;5;241m=\u001b[39m (\n\u001b[1;32m     64\u001b[0m     (_with_config(delayed_func, config), args, kwargs)\n\u001b[1;32m     65\u001b[0m     \u001b[38;5;28;01mfor\u001b[39;00m delayed_func, args, kwargs \u001b[38;5;129;01min\u001b[39;00m iterable\n\u001b[1;32m     66\u001b[0m )\n\u001b[0;32m---> 67\u001b[0m \u001b[38;5;28;01mreturn\u001b[39;00m \u001b[38;5;28;43msuper\u001b[39;49m\u001b[43m(\u001b[49m\u001b[43m)\u001b[49m\u001b[38;5;241;43m.\u001b[39;49m\u001b[38;5;21;43m__call__\u001b[39;49m\u001b[43m(\u001b[49m\u001b[43miterable_with_config\u001b[49m\u001b[43m)\u001b[49m\n",
      "File \u001b[0;32m/var/data/python/lib/python3.11/site-packages/joblib/parallel.py:2007\u001b[0m, in \u001b[0;36mParallel.__call__\u001b[0;34m(self, iterable)\u001b[0m\n\u001b[1;32m   2001\u001b[0m \u001b[38;5;66;03m# The first item from the output is blank, but it makes the interpreter\u001b[39;00m\n\u001b[1;32m   2002\u001b[0m \u001b[38;5;66;03m# progress until it enters the Try/Except block of the generator and\u001b[39;00m\n\u001b[1;32m   2003\u001b[0m \u001b[38;5;66;03m# reaches the first `yield` statement. This starts the asynchronous\u001b[39;00m\n\u001b[1;32m   2004\u001b[0m \u001b[38;5;66;03m# dispatch of the tasks to the workers.\u001b[39;00m\n\u001b[1;32m   2005\u001b[0m \u001b[38;5;28mnext\u001b[39m(output)\n\u001b[0;32m-> 2007\u001b[0m \u001b[38;5;28;01mreturn\u001b[39;00m output \u001b[38;5;28;01mif\u001b[39;00m \u001b[38;5;28mself\u001b[39m\u001b[38;5;241m.\u001b[39mreturn_generator \u001b[38;5;28;01melse\u001b[39;00m \u001b[38;5;28mlist\u001b[39m(output)\n",
      "File \u001b[0;32m/var/data/python/lib/python3.11/site-packages/joblib/parallel.py:1650\u001b[0m, in \u001b[0;36mParallel._get_outputs\u001b[0;34m(self, iterator, pre_dispatch)\u001b[0m\n\u001b[1;32m   1647\u001b[0m     \u001b[38;5;28;01myield\u001b[39;00m\n\u001b[1;32m   1649\u001b[0m     \u001b[38;5;28;01mwith\u001b[39;00m \u001b[38;5;28mself\u001b[39m\u001b[38;5;241m.\u001b[39m_backend\u001b[38;5;241m.\u001b[39mretrieval_context():\n\u001b[0;32m-> 1650\u001b[0m         \u001b[38;5;28;01myield from\u001b[39;00m \u001b[38;5;28mself\u001b[39m\u001b[38;5;241m.\u001b[39m_retrieve()\n\u001b[1;32m   1652\u001b[0m \u001b[38;5;28;01mexcept\u001b[39;00m \u001b[38;5;167;01mGeneratorExit\u001b[39;00m:\n\u001b[1;32m   1653\u001b[0m     \u001b[38;5;66;03m# The generator has been garbage collected before being fully\u001b[39;00m\n\u001b[1;32m   1654\u001b[0m     \u001b[38;5;66;03m# consumed. This aborts the remaining tasks if possible and warn\u001b[39;00m\n\u001b[1;32m   1655\u001b[0m     \u001b[38;5;66;03m# the user if necessary.\u001b[39;00m\n\u001b[1;32m   1656\u001b[0m     \u001b[38;5;28mself\u001b[39m\u001b[38;5;241m.\u001b[39m_exception \u001b[38;5;241m=\u001b[39m \u001b[38;5;28;01mTrue\u001b[39;00m\n",
      "File \u001b[0;32m/var/data/python/lib/python3.11/site-packages/joblib/parallel.py:1762\u001b[0m, in \u001b[0;36mParallel._retrieve\u001b[0;34m(self)\u001b[0m\n\u001b[1;32m   1757\u001b[0m \u001b[38;5;66;03m# If the next job is not ready for retrieval yet, we just wait for\u001b[39;00m\n\u001b[1;32m   1758\u001b[0m \u001b[38;5;66;03m# async callbacks to progress.\u001b[39;00m\n\u001b[1;32m   1759\u001b[0m \u001b[38;5;28;01mif\u001b[39;00m ((\u001b[38;5;28mlen\u001b[39m(\u001b[38;5;28mself\u001b[39m\u001b[38;5;241m.\u001b[39m_jobs) \u001b[38;5;241m==\u001b[39m \u001b[38;5;241m0\u001b[39m) \u001b[38;5;129;01mor\u001b[39;00m\n\u001b[1;32m   1760\u001b[0m     (\u001b[38;5;28mself\u001b[39m\u001b[38;5;241m.\u001b[39m_jobs[\u001b[38;5;241m0\u001b[39m]\u001b[38;5;241m.\u001b[39mget_status(\n\u001b[1;32m   1761\u001b[0m         timeout\u001b[38;5;241m=\u001b[39m\u001b[38;5;28mself\u001b[39m\u001b[38;5;241m.\u001b[39mtimeout) \u001b[38;5;241m==\u001b[39m TASK_PENDING)):\n\u001b[0;32m-> 1762\u001b[0m     time\u001b[38;5;241m.\u001b[39msleep(\u001b[38;5;241m0.01\u001b[39m)\n\u001b[1;32m   1763\u001b[0m     \u001b[38;5;28;01mcontinue\u001b[39;00m\n\u001b[1;32m   1765\u001b[0m \u001b[38;5;66;03m# We need to be careful: the job list can be filling up as\u001b[39;00m\n\u001b[1;32m   1766\u001b[0m \u001b[38;5;66;03m# we empty it and Python list are not thread-safe by\u001b[39;00m\n\u001b[1;32m   1767\u001b[0m \u001b[38;5;66;03m# default hence the use of the lock\u001b[39;00m\n",
      "\u001b[0;31mKeyboardInterrupt\u001b[0m: "
     ]
    }
   ],
   "source": [
    "param_grid = {\n",
    "   'n_estimators': list(range(500, 701, 100)),\n",
    "   'max_features': ['sqrt'],\n",
    "   'min_samples_leaf': list(range(1, 3))\n",
    "}\n",
    "\n",
    "rf = RandomForestRegressor(random_state=42)\n",
    "\n",
    "x_train, x_test, y_train, y_test = train_test_split(x, y, test_size=0.3, shuffle=True)\n",
    "\n",
    "x_train_numeric = x_train.select_dtypes(include=[np.number])\n",
    "x_test_numeric = x_test.select_dtypes(include=[np.number])\n",
    "\n",
    "grid_search_rf = GridSearchCV(\n",
    "   estimator=rf,\n",
    "   param_grid=param_grid,\n",
    "   scoring='neg_mean_absolute_error',\n",
    "   verbose=1,\n",
    "   n_jobs=-1\n",
    ")\n",
    "\n",
    "grid_search_rf.fit(x_train_numeric, y_train)\n",
    "\n",
    "# Выводим лучшие параметры\n",
    "best_params = grid_search_rf.best_params_\n",
    "best_params"
   ]
  },
  {
   "cell_type": "code",
   "execution_count": 122,
   "metadata": {},
   "outputs": [
    {
     "data": {
      "text/plain": [
       "(13907.346298311051, 961.0099215940479)"
      ]
     },
     "execution_count": 122,
     "metadata": {},
     "output_type": "execute_result"
    }
   ],
   "source": [
    "rf_tuned_mae_list = []\n",
    "rf_tuned = RandomForestRegressor(**best_params, random_state=42)\n",
    "\n",
    "for i in range(10):\n",
    "    x_train, x_test, y_train, y_test = train_test_split(x, y, test_size=0.3, shuffle=True)\n",
    "\n",
    "    x_train_numeric = x_train.select_dtypes(include=[np.number])\n",
    "    x_test_numeric = x_test.select_dtypes(include=[np.number])\n",
    "\n",
    "    rf_tuned.fit(x_train_numeric, y_train)\n",
    "\n",
    "    y_rf_tuned_pred = rf_tuned.predict(x_test_numeric)\n",
    "\n",
    "    rf_tuned_mae_list.append(mean_absolute_error(y_test, y_rf_tuned_pred))\n",
    "\n",
    "np.mean(rf_tuned_mae_list), np.std(rf_tuned_mae_list)"
   ]
  }
 ],
 "metadata": {
  "kernelspec": {
   "display_name": "Python 3",
   "language": "python",
   "name": "python3"
  },
  "language_info": {
   "codemirror_mode": {
    "name": "ipython",
    "version": 3
   },
   "file_extension": ".py",
   "mimetype": "text/x-python",
   "name": "python",
   "nbconvert_exporter": "python",
   "pygments_lexer": "ipython3",
   "version": "3.11.9"
  }
 },
 "nbformat": 4,
 "nbformat_minor": 2
}
