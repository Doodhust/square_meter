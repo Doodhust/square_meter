{
 "cells": [
  {
   "cell_type": "code",
   "execution_count": 138,
   "metadata": {},
   "outputs": [],
   "source": [
    "from sklearn.linear_model import LinearRegression\n",
    "from sklearn.model_selection import train_test_split\n",
    "from sklearn.metrics import mean_squared_error\n",
    "from sklearn.metrics import mean_absolute_error\n",
    "import numpy as np\n",
    "import pandas as pd\n",
    "\n",
    "from joblib import load"
   ]
  },
  {
   "cell_type": "code",
   "execution_count": 139,
   "metadata": {},
   "outputs": [
    {
     "data": {
      "text/html": [
       "<div>\n",
       "<style scoped>\n",
       "    .dataframe tbody tr th:only-of-type {\n",
       "        vertical-align: middle;\n",
       "    }\n",
       "\n",
       "    .dataframe tbody tr th {\n",
       "        vertical-align: top;\n",
       "    }\n",
       "\n",
       "    .dataframe thead th {\n",
       "        text-align: right;\n",
       "    }\n",
       "</style>\n",
       "<table border=\"1\" class=\"dataframe\">\n",
       "  <thead>\n",
       "    <tr style=\"text-align: right;\">\n",
       "      <th></th>\n",
       "      <th>ЖК</th>\n",
       "      <th>index()</th>\n",
       "      <th>Регион</th>\n",
       "      <th>Населенный пункт</th>\n",
       "      <th>Группа компаний</th>\n",
       "      <th>ID проекта</th>\n",
       "      <th>Класс недвижимости</th>\n",
       "      <th>Статус</th>\n",
       "      <th>Продано квартир, руб</th>\n",
       "      <th>Продано нежилых, шт</th>\n",
       "      <th>...</th>\n",
       "      <th>Месяц_Май 2022</th>\n",
       "      <th>Месяц_Март 2021</th>\n",
       "      <th>Месяц_Март 2022</th>\n",
       "      <th>Месяц_Ноябрь 2021</th>\n",
       "      <th>Месяц_Октябрь 2021</th>\n",
       "      <th>Месяц_Сентябрь 2021</th>\n",
       "      <th>Месяц_Февраль 2021</th>\n",
       "      <th>Месяц_Февраль 2022</th>\n",
       "      <th>Месяц_Январь 2021</th>\n",
       "      <th>Месяц_Январь 2022</th>\n",
       "    </tr>\n",
       "  </thead>\n",
       "  <tbody>\n",
       "    <tr>\n",
       "      <th>0</th>\n",
       "      <td>Восход 40376</td>\n",
       "      <td>258</td>\n",
       "      <td>Приморский край</td>\n",
       "      <td>Артем</td>\n",
       "      <td>СЗВОСХОД</td>\n",
       "      <td>11228</td>\n",
       "      <td>-1.341444</td>\n",
       "      <td>-0.321288</td>\n",
       "      <td>-0.889197</td>\n",
       "      <td>-0.287707</td>\n",
       "      <td>...</td>\n",
       "      <td>-0.262202</td>\n",
       "      <td>-0.1675</td>\n",
       "      <td>-0.290803</td>\n",
       "      <td>-0.240275</td>\n",
       "      <td>-0.219108</td>\n",
       "      <td>-0.22154</td>\n",
       "      <td>-0.164399</td>\n",
       "      <td>-0.276767</td>\n",
       "      <td>-0.161245</td>\n",
       "      <td>-0.253605</td>\n",
       "    </tr>\n",
       "    <tr>\n",
       "      <th>1</th>\n",
       "      <td>Восход 40376</td>\n",
       "      <td>261</td>\n",
       "      <td>Приморский край</td>\n",
       "      <td>Артем</td>\n",
       "      <td>СЗВОСХОД</td>\n",
       "      <td>11228</td>\n",
       "      <td>-1.341444</td>\n",
       "      <td>-0.321288</td>\n",
       "      <td>-0.824694</td>\n",
       "      <td>-0.287707</td>\n",
       "      <td>...</td>\n",
       "      <td>-0.262202</td>\n",
       "      <td>-0.1675</td>\n",
       "      <td>-0.290803</td>\n",
       "      <td>4.161902</td>\n",
       "      <td>-0.219108</td>\n",
       "      <td>-0.22154</td>\n",
       "      <td>-0.164399</td>\n",
       "      <td>-0.276767</td>\n",
       "      <td>-0.161245</td>\n",
       "      <td>-0.253605</td>\n",
       "    </tr>\n",
       "    <tr>\n",
       "      <th>2</th>\n",
       "      <td>Восход 40376</td>\n",
       "      <td>262</td>\n",
       "      <td>Приморский край</td>\n",
       "      <td>Артем</td>\n",
       "      <td>СЗВОСХОД</td>\n",
       "      <td>11228</td>\n",
       "      <td>-1.341444</td>\n",
       "      <td>-0.321288</td>\n",
       "      <td>-0.849961</td>\n",
       "      <td>-0.287707</td>\n",
       "      <td>...</td>\n",
       "      <td>-0.262202</td>\n",
       "      <td>-0.1675</td>\n",
       "      <td>-0.290803</td>\n",
       "      <td>-0.240275</td>\n",
       "      <td>-0.219108</td>\n",
       "      <td>-0.22154</td>\n",
       "      <td>-0.164399</td>\n",
       "      <td>-0.276767</td>\n",
       "      <td>-0.161245</td>\n",
       "      <td>-0.253605</td>\n",
       "    </tr>\n",
       "    <tr>\n",
       "      <th>3</th>\n",
       "      <td>Восход 40376</td>\n",
       "      <td>263</td>\n",
       "      <td>Приморский край</td>\n",
       "      <td>Артем</td>\n",
       "      <td>СЗВОСХОД</td>\n",
       "      <td>11228</td>\n",
       "      <td>-1.341444</td>\n",
       "      <td>-0.321288</td>\n",
       "      <td>-0.810597</td>\n",
       "      <td>-0.287707</td>\n",
       "      <td>...</td>\n",
       "      <td>-0.262202</td>\n",
       "      <td>-0.1675</td>\n",
       "      <td>-0.290803</td>\n",
       "      <td>-0.240275</td>\n",
       "      <td>-0.219108</td>\n",
       "      <td>-0.22154</td>\n",
       "      <td>-0.164399</td>\n",
       "      <td>-0.276767</td>\n",
       "      <td>-0.161245</td>\n",
       "      <td>3.943144</td>\n",
       "    </tr>\n",
       "    <tr>\n",
       "      <th>4</th>\n",
       "      <td>Восход 40376</td>\n",
       "      <td>264</td>\n",
       "      <td>Приморский край</td>\n",
       "      <td>Артем</td>\n",
       "      <td>СЗВОСХОД</td>\n",
       "      <td>11228</td>\n",
       "      <td>-1.341444</td>\n",
       "      <td>-0.321288</td>\n",
       "      <td>-0.868588</td>\n",
       "      <td>-0.287707</td>\n",
       "      <td>...</td>\n",
       "      <td>-0.262202</td>\n",
       "      <td>-0.1675</td>\n",
       "      <td>-0.290803</td>\n",
       "      <td>-0.240275</td>\n",
       "      <td>-0.219108</td>\n",
       "      <td>-0.22154</td>\n",
       "      <td>-0.164399</td>\n",
       "      <td>3.613142</td>\n",
       "      <td>-0.161245</td>\n",
       "      <td>-0.253605</td>\n",
       "    </tr>\n",
       "  </tbody>\n",
       "</table>\n",
       "<p>5 rows × 164 columns</p>\n",
       "</div>"
      ],
      "text/plain": [
       "             ЖК index()           Регион Населенный пункт Группа компаний  \\\n",
       "0  Восход 40376     258  Приморский край            Артем        СЗВОСХОД   \n",
       "1  Восход 40376     261  Приморский край            Артем        СЗВОСХОД   \n",
       "2  Восход 40376     262  Приморский край            Артем        СЗВОСХОД   \n",
       "3  Восход 40376     263  Приморский край            Артем        СЗВОСХОД   \n",
       "4  Восход 40376     264  Приморский край            Артем        СЗВОСХОД   \n",
       "\n",
       "   ID проекта  Класс недвижимости    Статус  Продано квартир, руб  \\\n",
       "0       11228           -1.341444 -0.321288             -0.889197   \n",
       "1       11228           -1.341444 -0.321288             -0.824694   \n",
       "2       11228           -1.341444 -0.321288             -0.849961   \n",
       "3       11228           -1.341444 -0.321288             -0.810597   \n",
       "4       11228           -1.341444 -0.321288             -0.868588   \n",
       "\n",
       "   Продано нежилых, шт  ...  Месяц_Май 2022  Месяц_Март 2021  Месяц_Март 2022  \\\n",
       "0            -0.287707  ...       -0.262202          -0.1675        -0.290803   \n",
       "1            -0.287707  ...       -0.262202          -0.1675        -0.290803   \n",
       "2            -0.287707  ...       -0.262202          -0.1675        -0.290803   \n",
       "3            -0.287707  ...       -0.262202          -0.1675        -0.290803   \n",
       "4            -0.287707  ...       -0.262202          -0.1675        -0.290803   \n",
       "\n",
       "   Месяц_Ноябрь 2021  Месяц_Октябрь 2021  Месяц_Сентябрь 2021  \\\n",
       "0          -0.240275           -0.219108             -0.22154   \n",
       "1           4.161902           -0.219108             -0.22154   \n",
       "2          -0.240275           -0.219108             -0.22154   \n",
       "3          -0.240275           -0.219108             -0.22154   \n",
       "4          -0.240275           -0.219108             -0.22154   \n",
       "\n",
       "   Месяц_Февраль 2021 Месяц_Февраль 2022 Месяц_Январь 2021  Месяц_Январь 2022  \n",
       "0           -0.164399          -0.276767         -0.161245          -0.253605  \n",
       "1           -0.164399          -0.276767         -0.161245          -0.253605  \n",
       "2           -0.164399          -0.276767         -0.161245          -0.253605  \n",
       "3           -0.164399          -0.276767         -0.161245           3.943144  \n",
       "4           -0.164399           3.613142         -0.161245          -0.253605  \n",
       "\n",
       "[5 rows x 164 columns]"
      ]
     },
     "execution_count": 139,
     "metadata": {},
     "output_type": "execute_result"
    }
   ],
   "source": [
    "# df = pd.read_excel(r'/home/maxleb/Desktop/FEIP/square_meter/data/result_prepared_df.xlsx', index_col=0)\n",
    "df = pd.read_excel(r'../data/result_prepared_df.xlsx', index_col=0)\n",
    "df.head()"
   ]
  },
  {
   "cell_type": "markdown",
   "metadata": {},
   "source": [
    "# Линейная регрессия по всем переменным"
   ]
  },
  {
   "cell_type": "code",
   "execution_count": 190,
   "metadata": {},
   "outputs": [
    {
     "name": "stdout",
     "output_type": "stream",
     "text": [
      "(718, 163) (718,)\n",
      "(308, 163) (308,)\n"
     ]
    }
   ],
   "source": [
    "x = df.drop(['Таргет'], axis=1)\n",
    "y = df['Таргет']\n",
    "\n",
    "x_train, x_test, y_train, y_test = train_test_split(x, y, test_size=0.3, random_state=42)\n",
    "\n",
    "# размерность обучающей\n",
    "print(x_train.shape, y_train.shape)\n",
    " \n",
    "# и тестовой выборки\n",
    "print(x_test.shape, y_test.shape)"
   ]
  },
  {
   "cell_type": "code",
   "execution_count": 191,
   "metadata": {},
   "outputs": [
    {
     "data": {
      "text/plain": [
       "10261.138287795378"
      ]
     },
     "execution_count": 191,
     "metadata": {},
     "output_type": "execute_result"
    }
   ],
   "source": [
    "lr = LinearRegression()\n",
    "\n",
    "x_train_numeric = x_train.select_dtypes(include=[np.number])\n",
    "x_test_numeric = x_test.select_dtypes(include=[np.number])\n",
    "\n",
    "lr.fit(x_train_numeric, y_train)\n",
    "\n",
    "y_pred = lr.predict(x_test_numeric)\n",
    "\n",
    "mae = mean_absolute_error(y_test, y_pred)\n",
    "\n",
    "# scaler_target = load('../DataPreparing/scaler_target.joblib') \n",
    "\n",
    "# mae_error_original = scaler_target.inverse_transform([[mae]])[0][0]\n",
    "\n",
    "# mae_error_original\n",
    "mae\n",
    "\n",
    "\n"
   ]
  },
  {
   "cell_type": "markdown",
   "metadata": {},
   "source": [
    "# Линейная регрессия по статистически значимым атрибутам"
   ]
  },
  {
   "cell_type": "code",
   "execution_count": 193,
   "metadata": {},
   "outputs": [
    {
     "name": "stdout",
     "output_type": "stream",
     "text": [
      "(820, 149) (820,)\n",
      "(206, 149) (206,)\n"
     ]
    }
   ],
   "source": [
    "important = np.load('../EDA/important.npy')\n",
    "important_col = [important[i][0] for i in range(len(important))]\n",
    "important_col\n",
    "\n",
    "x_imp = df[important_col]\n",
    "\n",
    "x_imp_train, x_imp_test, y_train, y_test = train_test_split(x_imp, y, test_size=0.2, random_state=42)\n",
    "\n",
    "# размерность обучающей\n",
    "print(x_imp_train.shape, y_train.shape)\n",
    " \n",
    "# и тестовой выборки\n",
    "print(x_imp_test.shape, y_test.shape)\n"
   ]
  },
  {
   "cell_type": "code",
   "execution_count": 194,
   "metadata": {},
   "outputs": [
    {
     "data": {
      "text/plain": [
       "10923.351800825241"
      ]
     },
     "execution_count": 194,
     "metadata": {},
     "output_type": "execute_result"
    }
   ],
   "source": [
    "lr_imp = LinearRegression()\n",
    "\n",
    "lr_imp.fit(x_imp_train, y_train)\n",
    "\n",
    "y_imp_pred = lr_imp.predict(x_imp_test)\n",
    "\n",
    "mae_imp = mean_absolute_error(y_test, y_imp_pred)\n",
    "\n",
    "\n",
    "# mae_error_original_imp = scaler_target.inverse_transform([[mae_imp]])[0][0]\n",
    "\n",
    "# mae_error_original_imp\n",
    "mae_imp"
   ]
  },
  {
   "cell_type": "markdown",
   "metadata": {},
   "source": [
    "# Вывод\n",
    "\n",
    "#### Лучше предоставить линейной регрессии больше переменных, а не отбирать их по значимости"
   ]
  },
  {
   "cell_type": "markdown",
   "metadata": {},
   "source": []
  }
 ],
 "metadata": {
  "kernelspec": {
   "display_name": "Python 3 (ipykernel)",
   "language": "python",
   "name": "python3"
  },
  "language_info": {
   "codemirror_mode": {
    "name": "ipython",
    "version": 3
   },
   "file_extension": ".py",
   "mimetype": "text/x-python",
   "name": "python",
   "nbconvert_exporter": "python",
   "pygments_lexer": "ipython3",
   "version": "3.12.4"
  }
 },
 "nbformat": 4,
 "nbformat_minor": 4
}
