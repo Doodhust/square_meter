{
 "cells": [
  {
   "cell_type": "code",
   "execution_count": 100,
   "metadata": {},
   "outputs": [],
   "source": [
    "from sklearn.linear_model import LinearRegression\n",
    "from sklearn.model_selection import train_test_split\n",
    "from sklearn.metrics import mean_squared_error\n",
    "from sklearn.metrics import mean_absolute_error\n",
    "import numpy as np\n",
    "import pandas as pd\n",
    "\n",
    "from joblib import load"
   ]
  },
  {
   "cell_type": "code",
   "execution_count": 101,
   "metadata": {},
   "outputs": [
    {
     "data": {
      "text/html": [
       "<div>\n",
       "<style scoped>\n",
       "    .dataframe tbody tr th:only-of-type {\n",
       "        vertical-align: middle;\n",
       "    }\n",
       "\n",
       "    .dataframe tbody tr th {\n",
       "        vertical-align: top;\n",
       "    }\n",
       "\n",
       "    .dataframe thead th {\n",
       "        text-align: right;\n",
       "    }\n",
       "</style>\n",
       "<table border=\"1\" class=\"dataframe\">\n",
       "  <thead>\n",
       "    <tr style=\"text-align: right;\">\n",
       "      <th></th>\n",
       "      <th>ЖК</th>\n",
       "      <th>index()</th>\n",
       "      <th>Регион</th>\n",
       "      <th>Населенный пункт</th>\n",
       "      <th>Группа компаний</th>\n",
       "      <th>ID проекта</th>\n",
       "      <th>Класс недвижимости</th>\n",
       "      <th>Статус</th>\n",
       "      <th>Месяц</th>\n",
       "      <th>Продано квартир, руб</th>\n",
       "      <th>...</th>\n",
       "      <th>Вспомогательный материал фасада_Стекло</th>\n",
       "      <th>Тип дома_Другой</th>\n",
       "      <th>Тип дома_Монолит</th>\n",
       "      <th>Тип дома_Монолитный каркас</th>\n",
       "      <th>Тип дома_Панель</th>\n",
       "      <th>Тип фасада_Другой</th>\n",
       "      <th>Тип фасада_Кирпич</th>\n",
       "      <th>Тип фасада_Навесной фасад</th>\n",
       "      <th>Тип фасада_Панель</th>\n",
       "      <th>Тип фасада_Стекло</th>\n",
       "    </tr>\n",
       "  </thead>\n",
       "  <tbody>\n",
       "    <tr>\n",
       "      <th>0</th>\n",
       "      <td>Восход 40376</td>\n",
       "      <td>258</td>\n",
       "      <td>Приморский край</td>\n",
       "      <td>Артем</td>\n",
       "      <td>СЗВОСХОД</td>\n",
       "      <td>11228</td>\n",
       "      <td>-1.341444</td>\n",
       "      <td>-0.321288</td>\n",
       "      <td>Август 2021</td>\n",
       "      <td>-0.889197</td>\n",
       "      <td>...</td>\n",
       "      <td>1.640319</td>\n",
       "      <td>-0.190693</td>\n",
       "      <td>0.498172</td>\n",
       "      <td>-0.351806</td>\n",
       "      <td>-0.237997</td>\n",
       "      <td>-0.513368</td>\n",
       "      <td>-0.716432</td>\n",
       "      <td>-0.534522</td>\n",
       "      <td>1.892183</td>\n",
       "      <td>-0.108786</td>\n",
       "    </tr>\n",
       "    <tr>\n",
       "      <th>1</th>\n",
       "      <td>Восход 40376</td>\n",
       "      <td>261</td>\n",
       "      <td>Приморский край</td>\n",
       "      <td>Артем</td>\n",
       "      <td>СЗВОСХОД</td>\n",
       "      <td>11228</td>\n",
       "      <td>-1.341444</td>\n",
       "      <td>-0.321288</td>\n",
       "      <td>Ноябрь 2021</td>\n",
       "      <td>-0.824694</td>\n",
       "      <td>...</td>\n",
       "      <td>1.640319</td>\n",
       "      <td>-0.190693</td>\n",
       "      <td>0.498172</td>\n",
       "      <td>-0.351806</td>\n",
       "      <td>-0.237997</td>\n",
       "      <td>-0.513368</td>\n",
       "      <td>-0.716432</td>\n",
       "      <td>-0.534522</td>\n",
       "      <td>1.892183</td>\n",
       "      <td>-0.108786</td>\n",
       "    </tr>\n",
       "    <tr>\n",
       "      <th>2</th>\n",
       "      <td>Восход 40376</td>\n",
       "      <td>262</td>\n",
       "      <td>Приморский край</td>\n",
       "      <td>Артем</td>\n",
       "      <td>СЗВОСХОД</td>\n",
       "      <td>11228</td>\n",
       "      <td>-1.341444</td>\n",
       "      <td>-0.321288</td>\n",
       "      <td>Декабрь 2021</td>\n",
       "      <td>-0.849961</td>\n",
       "      <td>...</td>\n",
       "      <td>1.640319</td>\n",
       "      <td>-0.190693</td>\n",
       "      <td>0.498172</td>\n",
       "      <td>-0.351806</td>\n",
       "      <td>-0.237997</td>\n",
       "      <td>-0.513368</td>\n",
       "      <td>-0.716432</td>\n",
       "      <td>-0.534522</td>\n",
       "      <td>1.892183</td>\n",
       "      <td>-0.108786</td>\n",
       "    </tr>\n",
       "    <tr>\n",
       "      <th>3</th>\n",
       "      <td>Восход 40376</td>\n",
       "      <td>263</td>\n",
       "      <td>Приморский край</td>\n",
       "      <td>Артем</td>\n",
       "      <td>СЗВОСХОД</td>\n",
       "      <td>11228</td>\n",
       "      <td>-1.341444</td>\n",
       "      <td>-0.321288</td>\n",
       "      <td>Январь 2022</td>\n",
       "      <td>-0.810597</td>\n",
       "      <td>...</td>\n",
       "      <td>1.640319</td>\n",
       "      <td>-0.190693</td>\n",
       "      <td>0.498172</td>\n",
       "      <td>-0.351806</td>\n",
       "      <td>-0.237997</td>\n",
       "      <td>-0.513368</td>\n",
       "      <td>-0.716432</td>\n",
       "      <td>-0.534522</td>\n",
       "      <td>1.892183</td>\n",
       "      <td>-0.108786</td>\n",
       "    </tr>\n",
       "    <tr>\n",
       "      <th>4</th>\n",
       "      <td>Восход 40376</td>\n",
       "      <td>264</td>\n",
       "      <td>Приморский край</td>\n",
       "      <td>Артем</td>\n",
       "      <td>СЗВОСХОД</td>\n",
       "      <td>11228</td>\n",
       "      <td>-1.341444</td>\n",
       "      <td>-0.321288</td>\n",
       "      <td>Февраль 2022</td>\n",
       "      <td>-0.868588</td>\n",
       "      <td>...</td>\n",
       "      <td>1.640319</td>\n",
       "      <td>-0.190693</td>\n",
       "      <td>0.498172</td>\n",
       "      <td>-0.351806</td>\n",
       "      <td>-0.237997</td>\n",
       "      <td>-0.513368</td>\n",
       "      <td>-0.716432</td>\n",
       "      <td>-0.534522</td>\n",
       "      <td>1.892183</td>\n",
       "      <td>-0.108786</td>\n",
       "    </tr>\n",
       "  </tbody>\n",
       "</table>\n",
       "<p>5 rows × 145 columns</p>\n",
       "</div>"
      ],
      "text/plain": [
       "             ЖК index()           Регион Населенный пункт Группа компаний  \\\n",
       "0  Восход 40376     258  Приморский край            Артем        СЗВОСХОД   \n",
       "1  Восход 40376     261  Приморский край            Артем        СЗВОСХОД   \n",
       "2  Восход 40376     262  Приморский край            Артем        СЗВОСХОД   \n",
       "3  Восход 40376     263  Приморский край            Артем        СЗВОСХОД   \n",
       "4  Восход 40376     264  Приморский край            Артем        СЗВОСХОД   \n",
       "\n",
       "   ID проекта  Класс недвижимости    Статус         Месяц  \\\n",
       "0       11228           -1.341444 -0.321288   Август 2021   \n",
       "1       11228           -1.341444 -0.321288   Ноябрь 2021   \n",
       "2       11228           -1.341444 -0.321288  Декабрь 2021   \n",
       "3       11228           -1.341444 -0.321288   Январь 2022   \n",
       "4       11228           -1.341444 -0.321288  Февраль 2022   \n",
       "\n",
       "   Продано квартир, руб  ...  Вспомогательный материал фасада_Стекло  \\\n",
       "0             -0.889197  ...                                1.640319   \n",
       "1             -0.824694  ...                                1.640319   \n",
       "2             -0.849961  ...                                1.640319   \n",
       "3             -0.810597  ...                                1.640319   \n",
       "4             -0.868588  ...                                1.640319   \n",
       "\n",
       "   Тип дома_Другой  Тип дома_Монолит  Тип дома_Монолитный каркас  \\\n",
       "0        -0.190693          0.498172                   -0.351806   \n",
       "1        -0.190693          0.498172                   -0.351806   \n",
       "2        -0.190693          0.498172                   -0.351806   \n",
       "3        -0.190693          0.498172                   -0.351806   \n",
       "4        -0.190693          0.498172                   -0.351806   \n",
       "\n",
       "   Тип дома_Панель  Тип фасада_Другой  Тип фасада_Кирпич  \\\n",
       "0        -0.237997          -0.513368          -0.716432   \n",
       "1        -0.237997          -0.513368          -0.716432   \n",
       "2        -0.237997          -0.513368          -0.716432   \n",
       "3        -0.237997          -0.513368          -0.716432   \n",
       "4        -0.237997          -0.513368          -0.716432   \n",
       "\n",
       "   Тип фасада_Навесной фасад Тип фасада_Панель Тип фасада_Стекло  \n",
       "0                  -0.534522          1.892183         -0.108786  \n",
       "1                  -0.534522          1.892183         -0.108786  \n",
       "2                  -0.534522          1.892183         -0.108786  \n",
       "3                  -0.534522          1.892183         -0.108786  \n",
       "4                  -0.534522          1.892183         -0.108786  \n",
       "\n",
       "[5 rows x 145 columns]"
      ]
     },
     "execution_count": 101,
     "metadata": {},
     "output_type": "execute_result"
    }
   ],
   "source": [
    "# df = pd.read_excel(r'/home/maxleb/Desktop/FEIP/square_meter/data/result_prepared_df.xlsx', index_col=0)\n",
    "df = pd.read_excel(r'../data/result_prepared_df.xlsx', index_col=0)\n",
    "df.head()"
   ]
  },
  {
   "cell_type": "code",
   "execution_count": 102,
   "metadata": {},
   "outputs": [
    {
     "name": "stdout",
     "output_type": "stream",
     "text": [
      "(820, 144) (820,)\n",
      "(206, 144) (206,)\n"
     ]
    }
   ],
   "source": [
    "x = df.drop(['Таргет'], axis=1)\n",
    "y = df['Таргет']\n",
    "\n",
    "x_train, x_test, y_train, y_test = train_test_split(x, y, test_size=0.2, random_state=42)\n",
    "\n",
    "# размерность обучающей\n",
    "print(x_train.shape, y_train.shape)\n",
    " \n",
    "# и тестовой выборки\n",
    "print(x_test.shape, y_test.shape)"
   ]
  },
  {
   "cell_type": "code",
   "execution_count": 103,
   "metadata": {},
   "outputs": [
    {
     "data": {
      "text/plain": [
       "np.float64(13721.86039133723)"
      ]
     },
     "execution_count": 103,
     "metadata": {},
     "output_type": "execute_result"
    }
   ],
   "source": [
    "lr = LinearRegression()\n",
    "\n",
    "x_train_numeric = x_train.select_dtypes(include=[np.number])\n",
    "x_test_numeric = x_test.select_dtypes(include=[np.number])\n",
    "\n",
    "lr.fit(x_train_numeric, y_train)\n",
    "\n",
    "y_pred = lr.predict(x_test_numeric)\n",
    "\n",
    "mae = mean_absolute_error(y_test, y_pred)\n",
    "\n",
    "# scaler_target = load('../DataPreparing/scaler_target.joblib') \n",
    "\n",
    "# mae_error_original = scaler_target.inverse_transform([[mae]])[0][0]\n",
    "\n",
    "# mae_error_original\n",
    "mae"
   ]
  },
  {
   "cell_type": "markdown",
   "metadata": {},
   "source": [
    "# Линейная регрессия по статистически значимым атрибутам"
   ]
  },
  {
   "cell_type": "code",
   "execution_count": 104,
   "metadata": {},
   "outputs": [
    {
     "name": "stdout",
     "output_type": "stream",
     "text": [
      "(820, 101) (820,)\n",
      "(206, 101) (206,)\n"
     ]
    }
   ],
   "source": [
    "important = np.load('../EDA/important.npy')\n",
    "important_col = [important[i][0] for i in range(len(important))]\n",
    "important_col\n",
    "\n",
    "x_imp = df[important_col]\n",
    "\n",
    "x_imp_train, x_imp_test, y_train, y_test = train_test_split(x_imp, y, test_size=0.2, random_state=42)\n",
    "\n",
    "# размерность обучающей\n",
    "print(x_imp_train.shape, y_train.shape)\n",
    " \n",
    "# и тестовой выборки\n",
    "print(x_imp_test.shape, y_test.shape)\n"
   ]
  },
  {
   "cell_type": "code",
   "execution_count": 105,
   "metadata": {},
   "outputs": [
    {
     "data": {
      "text/plain": [
       "np.float64(14241.685254006683)"
      ]
     },
     "execution_count": 105,
     "metadata": {},
     "output_type": "execute_result"
    }
   ],
   "source": [
    "lr_imp = LinearRegression()\n",
    "\n",
    "lr_imp.fit(x_imp_train, y_train)\n",
    "\n",
    "y_imp_pred = lr_imp.predict(x_imp_test)\n",
    "\n",
    "mae_imp = mean_absolute_error(y_test, y_imp_pred)\n",
    "\n",
    "\n",
    "# mae_error_original_imp = scaler_target.inverse_transform([[mae_imp]])[0][0]\n",
    "\n",
    "# mae_error_original_imp\n",
    "mae_imp"
   ]
  },
  {
   "cell_type": "markdown",
   "metadata": {},
   "source": []
  },
  {
   "cell_type": "code",
   "execution_count": null,
   "metadata": {},
   "outputs": [],
   "source": []
  },
  {
   "cell_type": "code",
   "execution_count": null,
   "metadata": {},
   "outputs": [],
   "source": []
  }
 ],
 "metadata": {
  "kernelspec": {
   "display_name": "Python 3 (ipykernel)",
   "language": "python",
   "name": "python3"
  },
  "language_info": {
   "codemirror_mode": {
    "name": "ipython",
    "version": 3
   },
   "file_extension": ".py",
   "mimetype": "text/x-python",
   "name": "python",
   "nbconvert_exporter": "python",
   "pygments_lexer": "ipython3",
   "version": "3.12.4"
  }
 },
 "nbformat": 4,
 "nbformat_minor": 4
}
