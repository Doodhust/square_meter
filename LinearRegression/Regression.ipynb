{
 "cells": [
  {
   "cell_type": "code",
   "execution_count": 1,
   "metadata": {},
   "outputs": [],
   "source": [
    "from sklearn.linear_model import LinearRegression\n",
    "from sklearn.model_selection import train_test_split\n",
    "from sklearn.metrics import mean_squared_error\n",
    "from sklearn.metrics import mean_absolute_error\n",
    "import numpy as np\n",
    "import pandas as pd\n",
    "\n",
    "from joblib import load"
   ]
  },
  {
   "cell_type": "code",
   "execution_count": 2,
   "metadata": {},
   "outputs": [
    {
     "data": {
      "text/html": [
       "<div>\n",
       "<style scoped>\n",
       "    .dataframe tbody tr th:only-of-type {\n",
       "        vertical-align: middle;\n",
       "    }\n",
       "\n",
       "    .dataframe tbody tr th {\n",
       "        vertical-align: top;\n",
       "    }\n",
       "\n",
       "    .dataframe thead th {\n",
       "        text-align: right;\n",
       "    }\n",
       "</style>\n",
       "<table border=\"1\" class=\"dataframe\">\n",
       "  <thead>\n",
       "    <tr style=\"text-align: right;\">\n",
       "      <th></th>\n",
       "      <th>ЖК</th>\n",
       "      <th>index()</th>\n",
       "      <th>Регион</th>\n",
       "      <th>Населенный пункт</th>\n",
       "      <th>Группа компаний</th>\n",
       "      <th>ID проекта</th>\n",
       "      <th>Класс недвижимости</th>\n",
       "      <th>Статус</th>\n",
       "      <th>Продано квартир, руб</th>\n",
       "      <th>Продано нежилых, шт</th>\n",
       "      <th>...</th>\n",
       "      <th>Месяц_Декабрь</th>\n",
       "      <th>Месяц_Июль</th>\n",
       "      <th>Месяц_Июнь</th>\n",
       "      <th>Месяц_Май</th>\n",
       "      <th>Месяц_Март</th>\n",
       "      <th>Месяц_Ноябрь</th>\n",
       "      <th>Месяц_Октябрь</th>\n",
       "      <th>Месяц_Сентябрь</th>\n",
       "      <th>Месяц_Февраль</th>\n",
       "      <th>Месяц_Январь</th>\n",
       "    </tr>\n",
       "  </thead>\n",
       "  <tbody>\n",
       "    <tr>\n",
       "      <th>0</th>\n",
       "      <td>Восход 40376</td>\n",
       "      <td>258</td>\n",
       "      <td>Приморский край</td>\n",
       "      <td>Артем</td>\n",
       "      <td>СЗВОСХОД</td>\n",
       "      <td>11228</td>\n",
       "      <td>-1.341444</td>\n",
       "      <td>-0.321288</td>\n",
       "      <td>-0.889197</td>\n",
       "      <td>-0.287707</td>\n",
       "      <td>...</td>\n",
       "      <td>-0.262202</td>\n",
       "      <td>-0.335855</td>\n",
       "      <td>-0.323131</td>\n",
       "      <td>-0.315719</td>\n",
       "      <td>-0.342997</td>\n",
       "      <td>-0.240275</td>\n",
       "      <td>-0.219108</td>\n",
       "      <td>-0.22154</td>\n",
       "      <td>-0.328620</td>\n",
       "      <td>-0.306295</td>\n",
       "    </tr>\n",
       "    <tr>\n",
       "      <th>1</th>\n",
       "      <td>Восход 40376</td>\n",
       "      <td>261</td>\n",
       "      <td>Приморский край</td>\n",
       "      <td>Артем</td>\n",
       "      <td>СЗВОСХОД</td>\n",
       "      <td>11228</td>\n",
       "      <td>-1.341444</td>\n",
       "      <td>-0.321288</td>\n",
       "      <td>-0.824694</td>\n",
       "      <td>-0.287707</td>\n",
       "      <td>...</td>\n",
       "      <td>-0.262202</td>\n",
       "      <td>-0.335855</td>\n",
       "      <td>-0.323131</td>\n",
       "      <td>-0.315719</td>\n",
       "      <td>-0.342997</td>\n",
       "      <td>4.161902</td>\n",
       "      <td>-0.219108</td>\n",
       "      <td>-0.22154</td>\n",
       "      <td>-0.328620</td>\n",
       "      <td>-0.306295</td>\n",
       "    </tr>\n",
       "    <tr>\n",
       "      <th>2</th>\n",
       "      <td>Восход 40376</td>\n",
       "      <td>262</td>\n",
       "      <td>Приморский край</td>\n",
       "      <td>Артем</td>\n",
       "      <td>СЗВОСХОД</td>\n",
       "      <td>11228</td>\n",
       "      <td>-1.341444</td>\n",
       "      <td>-0.321288</td>\n",
       "      <td>-0.849961</td>\n",
       "      <td>-0.287707</td>\n",
       "      <td>...</td>\n",
       "      <td>3.813850</td>\n",
       "      <td>-0.335855</td>\n",
       "      <td>-0.323131</td>\n",
       "      <td>-0.315719</td>\n",
       "      <td>-0.342997</td>\n",
       "      <td>-0.240275</td>\n",
       "      <td>-0.219108</td>\n",
       "      <td>-0.22154</td>\n",
       "      <td>-0.328620</td>\n",
       "      <td>-0.306295</td>\n",
       "    </tr>\n",
       "    <tr>\n",
       "      <th>3</th>\n",
       "      <td>Восход 40376</td>\n",
       "      <td>263</td>\n",
       "      <td>Приморский край</td>\n",
       "      <td>Артем</td>\n",
       "      <td>СЗВОСХОД</td>\n",
       "      <td>11228</td>\n",
       "      <td>-1.341444</td>\n",
       "      <td>-0.321288</td>\n",
       "      <td>-0.810597</td>\n",
       "      <td>-0.287707</td>\n",
       "      <td>...</td>\n",
       "      <td>-0.262202</td>\n",
       "      <td>-0.335855</td>\n",
       "      <td>-0.323131</td>\n",
       "      <td>-0.315719</td>\n",
       "      <td>-0.342997</td>\n",
       "      <td>-0.240275</td>\n",
       "      <td>-0.219108</td>\n",
       "      <td>-0.22154</td>\n",
       "      <td>-0.328620</td>\n",
       "      <td>3.264826</td>\n",
       "    </tr>\n",
       "    <tr>\n",
       "      <th>4</th>\n",
       "      <td>Восход 40376</td>\n",
       "      <td>264</td>\n",
       "      <td>Приморский край</td>\n",
       "      <td>Артем</td>\n",
       "      <td>СЗВОСХОД</td>\n",
       "      <td>11228</td>\n",
       "      <td>-1.341444</td>\n",
       "      <td>-0.321288</td>\n",
       "      <td>-0.868588</td>\n",
       "      <td>-0.287707</td>\n",
       "      <td>...</td>\n",
       "      <td>-0.262202</td>\n",
       "      <td>-0.335855</td>\n",
       "      <td>-0.323131</td>\n",
       "      <td>-0.315719</td>\n",
       "      <td>-0.342997</td>\n",
       "      <td>-0.240275</td>\n",
       "      <td>-0.219108</td>\n",
       "      <td>-0.22154</td>\n",
       "      <td>3.043025</td>\n",
       "      <td>-0.306295</td>\n",
       "    </tr>\n",
       "  </tbody>\n",
       "</table>\n",
       "<p>5 rows × 157 columns</p>\n",
       "</div>"
      ],
      "text/plain": [
       "             ЖК index()           Регион Населенный пункт Группа компаний  \\\n",
       "0  Восход 40376     258  Приморский край            Артем        СЗВОСХОД   \n",
       "1  Восход 40376     261  Приморский край            Артем        СЗВОСХОД   \n",
       "2  Восход 40376     262  Приморский край            Артем        СЗВОСХОД   \n",
       "3  Восход 40376     263  Приморский край            Артем        СЗВОСХОД   \n",
       "4  Восход 40376     264  Приморский край            Артем        СЗВОСХОД   \n",
       "\n",
       "   ID проекта  Класс недвижимости    Статус  Продано квартир, руб  \\\n",
       "0       11228           -1.341444 -0.321288             -0.889197   \n",
       "1       11228           -1.341444 -0.321288             -0.824694   \n",
       "2       11228           -1.341444 -0.321288             -0.849961   \n",
       "3       11228           -1.341444 -0.321288             -0.810597   \n",
       "4       11228           -1.341444 -0.321288             -0.868588   \n",
       "\n",
       "   Продано нежилых, шт  ...  Месяц_Декабрь  Месяц_Июль  Месяц_Июнь  Месяц_Май  \\\n",
       "0            -0.287707  ...      -0.262202   -0.335855   -0.323131  -0.315719   \n",
       "1            -0.287707  ...      -0.262202   -0.335855   -0.323131  -0.315719   \n",
       "2            -0.287707  ...       3.813850   -0.335855   -0.323131  -0.315719   \n",
       "3            -0.287707  ...      -0.262202   -0.335855   -0.323131  -0.315719   \n",
       "4            -0.287707  ...      -0.262202   -0.335855   -0.323131  -0.315719   \n",
       "\n",
       "   Месяц_Март  Месяц_Ноябрь  Месяц_Октябрь Месяц_Сентябрь Месяц_Февраль  \\\n",
       "0   -0.342997     -0.240275      -0.219108       -0.22154     -0.328620   \n",
       "1   -0.342997      4.161902      -0.219108       -0.22154     -0.328620   \n",
       "2   -0.342997     -0.240275      -0.219108       -0.22154     -0.328620   \n",
       "3   -0.342997     -0.240275      -0.219108       -0.22154     -0.328620   \n",
       "4   -0.342997     -0.240275      -0.219108       -0.22154      3.043025   \n",
       "\n",
       "   Месяц_Январь  \n",
       "0     -0.306295  \n",
       "1     -0.306295  \n",
       "2     -0.306295  \n",
       "3      3.264826  \n",
       "4     -0.306295  \n",
       "\n",
       "[5 rows x 157 columns]"
      ]
     },
     "execution_count": 2,
     "metadata": {},
     "output_type": "execute_result"
    }
   ],
   "source": [
    "# df = pd.read_excel(r'/home/maxleb/Desktop/FEIP/square_meter/data/result_prepared_df.xlsx', index_col=0)\n",
    "df = pd.read_excel(r'../data/result_prepared_df.xlsx', index_col=0)\n",
    "df.head()"
   ]
  },
  {
   "cell_type": "markdown",
   "metadata": {},
   "source": [
    "# Линейная регрессия по всем переменным"
   ]
  },
  {
   "cell_type": "code",
   "execution_count": 3,
   "metadata": {},
   "outputs": [
    {
     "name": "stdout",
     "output_type": "stream",
     "text": [
      "(718, 156) (718,)\n",
      "(308, 156) (308,)\n"
     ]
    }
   ],
   "source": [
    "x = df.drop(['Таргет'], axis=1)\n",
    "y = df['Таргет']\n",
    "\n",
    "x_train, x_test, y_train, y_test = train_test_split(x, y, test_size=0.3, random_state=42)\n",
    "\n",
    "# размерность обучающей\n",
    "print(x_train.shape, y_train.shape)\n",
    " \n",
    "# и тестовой выборки\n",
    "print(x_test.shape, y_test.shape)"
   ]
  },
  {
   "cell_type": "code",
   "execution_count": 4,
   "metadata": {},
   "outputs": [
    {
     "data": {
      "text/plain": [
       "np.float64(9822.033207999026)"
      ]
     },
     "execution_count": 4,
     "metadata": {},
     "output_type": "execute_result"
    }
   ],
   "source": [
    "lr = LinearRegression()\n",
    "\n",
    "x_train_numeric = x_train.select_dtypes(include=[np.number])\n",
    "x_test_numeric = x_test.select_dtypes(include=[np.number])\n",
    "\n",
    "lr.fit(x_train_numeric, y_train)\n",
    "\n",
    "y_pred = lr.predict(x_test_numeric)\n",
    "\n",
    "mae = mean_absolute_error(y_test, y_pred)\n",
    "\n",
    "# scaler_target = load('../DataPreparing/scaler_target.joblib') \n",
    "\n",
    "# mae_error_original = scaler_target.inverse_transform([[mae]])[0][0]\n",
    "\n",
    "# mae_error_original\n",
    "mae\n",
    "\n",
    "\n"
   ]
  },
  {
   "cell_type": "markdown",
   "metadata": {},
   "source": [
    "# Линейная регрессия по статистически значимым атрибутам"
   ]
  },
  {
   "cell_type": "code",
   "execution_count": 5,
   "metadata": {},
   "outputs": [
    {
     "name": "stdout",
     "output_type": "stream",
     "text": [
      "(820, 142) (820,)\n",
      "(206, 142) (206,)\n"
     ]
    }
   ],
   "source": [
    "important = np.load('../EDA/important.npy')\n",
    "important_col = [important[i][0] for i in range(len(important))]\n",
    "important_col\n",
    "\n",
    "x_imp = df[important_col]\n",
    "\n",
    "x_imp_train, x_imp_test, y_train, y_test = train_test_split(x_imp, y, test_size=0.2, random_state=42)\n",
    "\n",
    "# размерность обучающей\n",
    "print(x_imp_train.shape, y_train.shape)\n",
    " \n",
    "# и тестовой выборки\n",
    "print(x_imp_test.shape, y_test.shape)\n"
   ]
  },
  {
   "cell_type": "code",
   "execution_count": 6,
   "metadata": {},
   "outputs": [
    {
     "data": {
      "text/plain": [
       "np.float64(10788.481560631068)"
      ]
     },
     "execution_count": 6,
     "metadata": {},
     "output_type": "execute_result"
    }
   ],
   "source": [
    "lr_imp = LinearRegression()\n",
    "\n",
    "lr_imp.fit(x_imp_train, y_train)\n",
    "\n",
    "y_imp_pred = lr_imp.predict(x_imp_test)\n",
    "\n",
    "mae_imp = mean_absolute_error(y_test, y_imp_pred)\n",
    "\n",
    "\n",
    "# mae_error_original_imp = scaler_target.inverse_transform([[mae_imp]])[0][0]\n",
    "\n",
    "# mae_error_original_imp\n",
    "mae_imp"
   ]
  },
  {
   "cell_type": "markdown",
   "metadata": {},
   "source": [
    "# Вывод\n",
    "\n",
    "#### Лучше предоставить линейной регрессии больше переменных, а не отбирать их по значимости"
   ]
  },
  {
   "cell_type": "markdown",
   "metadata": {},
   "source": []
  },
  {
   "cell_type": "code",
   "execution_count": null,
   "metadata": {},
   "outputs": [],
   "source": []
  },
  {
   "cell_type": "code",
   "execution_count": null,
   "metadata": {},
   "outputs": [],
   "source": []
  }
 ],
 "metadata": {
  "kernelspec": {
   "display_name": "Python 3 (ipykernel)",
   "language": "python",
   "name": "python3"
  },
  "language_info": {
   "codemirror_mode": {
    "name": "ipython",
    "version": 3
   },
   "file_extension": ".py",
   "mimetype": "text/x-python",
   "name": "python",
   "nbconvert_exporter": "python",
   "pygments_lexer": "ipython3",
   "version": "3.12.4"
  }
 },
 "nbformat": 4,
 "nbformat_minor": 4
}
