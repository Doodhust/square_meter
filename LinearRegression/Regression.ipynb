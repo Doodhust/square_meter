{
 "cells": [
  {
   "cell_type": "code",
   "execution_count": 49,
   "metadata": {},
   "outputs": [],
   "source": [
    "from sklearn.linear_model import LinearRegression\n",
    "from sklearn.model_selection import train_test_split\n",
    "from sklearn.metrics import mean_squared_error\n",
    "from sklearn.metrics import mean_absolute_error\n",
    "import numpy as np\n",
    "import pandas as pd\n",
    "\n",
    "from joblib import load"
   ]
  },
  {
   "cell_type": "code",
   "execution_count": 25,
   "metadata": {},
   "outputs": [
    {
     "data": {
      "text/html": [
       "<div>\n",
       "<style scoped>\n",
       "    .dataframe tbody tr th:only-of-type {\n",
       "        vertical-align: middle;\n",
       "    }\n",
       "\n",
       "    .dataframe tbody tr th {\n",
       "        vertical-align: top;\n",
       "    }\n",
       "\n",
       "    .dataframe thead th {\n",
       "        text-align: right;\n",
       "    }\n",
       "</style>\n",
       "<table border=\"1\" class=\"dataframe\">\n",
       "  <thead>\n",
       "    <tr style=\"text-align: right;\">\n",
       "      <th></th>\n",
       "      <th>ЖК</th>\n",
       "      <th>index()</th>\n",
       "      <th>Регион</th>\n",
       "      <th>Населенный пункт</th>\n",
       "      <th>Группа компаний</th>\n",
       "      <th>ID проекта</th>\n",
       "      <th>Класс недвижимости</th>\n",
       "      <th>Статус</th>\n",
       "      <th>Месяц</th>\n",
       "      <th>Продано квартир, руб</th>\n",
       "      <th>...</th>\n",
       "      <th>Вспомогательный материал фасада_Стекло</th>\n",
       "      <th>Тип дома_Другой</th>\n",
       "      <th>Тип дома_Монолит</th>\n",
       "      <th>Тип дома_Монолитный каркас</th>\n",
       "      <th>Тип дома_Панель</th>\n",
       "      <th>Тип фасада_Другой</th>\n",
       "      <th>Тип фасада_Кирпич</th>\n",
       "      <th>Тип фасада_Навесной фасад</th>\n",
       "      <th>Тип фасада_Панель</th>\n",
       "      <th>Тип фасада_Стекло</th>\n",
       "    </tr>\n",
       "  </thead>\n",
       "  <tbody>\n",
       "    <tr>\n",
       "      <th>0</th>\n",
       "      <td>Восход 40376</td>\n",
       "      <td>258</td>\n",
       "      <td>Приморский край</td>\n",
       "      <td>Артем</td>\n",
       "      <td>СЗВОСХОД</td>\n",
       "      <td>11228</td>\n",
       "      <td>0.0</td>\n",
       "      <td>0</td>\n",
       "      <td>Август 2021</td>\n",
       "      <td>4142000.0</td>\n",
       "      <td>...</td>\n",
       "      <td>1</td>\n",
       "      <td>0</td>\n",
       "      <td>1</td>\n",
       "      <td>0</td>\n",
       "      <td>0</td>\n",
       "      <td>0</td>\n",
       "      <td>0</td>\n",
       "      <td>0</td>\n",
       "      <td>1</td>\n",
       "      <td>0</td>\n",
       "    </tr>\n",
       "    <tr>\n",
       "      <th>1</th>\n",
       "      <td>Восход 40376</td>\n",
       "      <td>261</td>\n",
       "      <td>Приморский край</td>\n",
       "      <td>Артем</td>\n",
       "      <td>СЗВОСХОД</td>\n",
       "      <td>11228</td>\n",
       "      <td>0.0</td>\n",
       "      <td>0</td>\n",
       "      <td>Ноябрь 2021</td>\n",
       "      <td>7144200.0</td>\n",
       "      <td>...</td>\n",
       "      <td>1</td>\n",
       "      <td>0</td>\n",
       "      <td>1</td>\n",
       "      <td>0</td>\n",
       "      <td>0</td>\n",
       "      <td>0</td>\n",
       "      <td>0</td>\n",
       "      <td>0</td>\n",
       "      <td>1</td>\n",
       "      <td>0</td>\n",
       "    </tr>\n",
       "    <tr>\n",
       "      <th>2</th>\n",
       "      <td>Восход 40376</td>\n",
       "      <td>262</td>\n",
       "      <td>Приморский край</td>\n",
       "      <td>Артем</td>\n",
       "      <td>СЗВОСХОД</td>\n",
       "      <td>11228</td>\n",
       "      <td>0.0</td>\n",
       "      <td>0</td>\n",
       "      <td>Декабрь 2021</td>\n",
       "      <td>5968200.0</td>\n",
       "      <td>...</td>\n",
       "      <td>1</td>\n",
       "      <td>0</td>\n",
       "      <td>1</td>\n",
       "      <td>0</td>\n",
       "      <td>0</td>\n",
       "      <td>0</td>\n",
       "      <td>0</td>\n",
       "      <td>0</td>\n",
       "      <td>1</td>\n",
       "      <td>0</td>\n",
       "    </tr>\n",
       "    <tr>\n",
       "      <th>3</th>\n",
       "      <td>Восход 40376</td>\n",
       "      <td>263</td>\n",
       "      <td>Приморский край</td>\n",
       "      <td>Артем</td>\n",
       "      <td>СЗВОСХОД</td>\n",
       "      <td>11228</td>\n",
       "      <td>0.0</td>\n",
       "      <td>0</td>\n",
       "      <td>Январь 2022</td>\n",
       "      <td>7800300.0</td>\n",
       "      <td>...</td>\n",
       "      <td>1</td>\n",
       "      <td>0</td>\n",
       "      <td>1</td>\n",
       "      <td>0</td>\n",
       "      <td>0</td>\n",
       "      <td>0</td>\n",
       "      <td>0</td>\n",
       "      <td>0</td>\n",
       "      <td>1</td>\n",
       "      <td>0</td>\n",
       "    </tr>\n",
       "    <tr>\n",
       "      <th>4</th>\n",
       "      <td>Восход 40376</td>\n",
       "      <td>264</td>\n",
       "      <td>Приморский край</td>\n",
       "      <td>Артем</td>\n",
       "      <td>СЗВОСХОД</td>\n",
       "      <td>11228</td>\n",
       "      <td>0.0</td>\n",
       "      <td>0</td>\n",
       "      <td>Февраль 2022</td>\n",
       "      <td>5101200.0</td>\n",
       "      <td>...</td>\n",
       "      <td>1</td>\n",
       "      <td>0</td>\n",
       "      <td>1</td>\n",
       "      <td>0</td>\n",
       "      <td>0</td>\n",
       "      <td>0</td>\n",
       "      <td>0</td>\n",
       "      <td>0</td>\n",
       "      <td>1</td>\n",
       "      <td>0</td>\n",
       "    </tr>\n",
       "  </tbody>\n",
       "</table>\n",
       "<p>5 rows × 145 columns</p>\n",
       "</div>"
      ],
      "text/plain": [
       "             ЖК index()           Регион Населенный пункт Группа компаний  \\\n",
       "0  Восход 40376     258  Приморский край            Артем        СЗВОСХОД   \n",
       "1  Восход 40376     261  Приморский край            Артем        СЗВОСХОД   \n",
       "2  Восход 40376     262  Приморский край            Артем        СЗВОСХОД   \n",
       "3  Восход 40376     263  Приморский край            Артем        СЗВОСХОД   \n",
       "4  Восход 40376     264  Приморский край            Артем        СЗВОСХОД   \n",
       "\n",
       "   ID проекта  Класс недвижимости  Статус         Месяц  Продано квартир, руб  \\\n",
       "0       11228                 0.0       0   Август 2021             4142000.0   \n",
       "1       11228                 0.0       0   Ноябрь 2021             7144200.0   \n",
       "2       11228                 0.0       0  Декабрь 2021             5968200.0   \n",
       "3       11228                 0.0       0   Январь 2022             7800300.0   \n",
       "4       11228                 0.0       0  Февраль 2022             5101200.0   \n",
       "\n",
       "   ...  Вспомогательный материал фасада_Стекло  Тип дома_Другой  \\\n",
       "0  ...                                       1                0   \n",
       "1  ...                                       1                0   \n",
       "2  ...                                       1                0   \n",
       "3  ...                                       1                0   \n",
       "4  ...                                       1                0   \n",
       "\n",
       "   Тип дома_Монолит  Тип дома_Монолитный каркас  Тип дома_Панель  \\\n",
       "0                 1                           0                0   \n",
       "1                 1                           0                0   \n",
       "2                 1                           0                0   \n",
       "3                 1                           0                0   \n",
       "4                 1                           0                0   \n",
       "\n",
       "   Тип фасада_Другой  Тип фасада_Кирпич  Тип фасада_Навесной фасад  \\\n",
       "0                  0                  0                          0   \n",
       "1                  0                  0                          0   \n",
       "2                  0                  0                          0   \n",
       "3                  0                  0                          0   \n",
       "4                  0                  0                          0   \n",
       "\n",
       "  Тип фасада_Панель Тип фасада_Стекло  \n",
       "0                 1                 0  \n",
       "1                 1                 0  \n",
       "2                 1                 0  \n",
       "3                 1                 0  \n",
       "4                 1                 0  \n",
       "\n",
       "[5 rows x 145 columns]"
      ]
     },
     "execution_count": 25,
     "metadata": {},
     "output_type": "execute_result"
    }
   ],
   "source": [
    "# df = pd.read_excel(r'/home/maxleb/Desktop/FEIP/square_meter/data/result_prepared_df.xlsx', index_col=0)\n",
    "df = pd.read_excel(r'/home/doodhust/VsCodeProjects/data/result_prepared_df.xlsx', index_col=0)\n",
    "df.head()"
   ]
  },
  {
   "cell_type": "code",
   "execution_count": 26,
   "metadata": {},
   "outputs": [
    {
     "name": "stdout",
     "output_type": "stream",
     "text": [
      "(820, 144) (820,)\n",
      "(206, 144) (206,)\n"
     ]
    }
   ],
   "source": [
    "x = df.drop(['Таргет'], axis=1)\n",
    "y = df['Таргет']\n",
    "\n",
    "x_train, x_test, y_train, y_test = train_test_split(x, y, test_size=0.2, random_state=42)\n",
    "\n",
    "# размерность обучающей\n",
    "print(x_train.shape, y_train.shape)\n",
    " \n",
    "# и тестовой выборки\n",
    "print(x_test.shape, y_test.shape)"
   ]
  },
  {
   "cell_type": "code",
   "execution_count": 47,
   "metadata": {},
   "outputs": [
    {
     "data": {
      "text/plain": [
       "154358.88923790748"
      ]
     },
     "execution_count": 47,
     "metadata": {},
     "output_type": "execute_result"
    }
   ],
   "source": [
    "lr = LinearRegression()\n",
    "\n",
    "x_train_numeric = x_train.select_dtypes(include=[np.number])\n",
    "x_test_numeric = x_test.select_dtypes(include=[np.number])\n",
    "\n",
    "lr.fit(x_train_numeric, y_train)\n",
    "\n",
    "y_pred = lr.predict(x_test_numeric)\n",
    "\n",
    "mae = mean_absolute_error(y_test, y_pred)\n",
    "\n",
    "scaler_target = load('/home/doodhust/VsCodeProjects/DataPreparing/scaler_target.joblib') \n",
    "\n",
    "mae_error_original = scaler_target.inverse_transform([[mae]])[0][0]\n",
    "\n",
    "mae_error_original\n"
   ]
  },
  {
   "cell_type": "markdown",
   "metadata": {},
   "source": [
    "# Линейная регрессия по статистически значимым атрибутам"
   ]
  },
  {
   "cell_type": "code",
   "execution_count": 70,
   "metadata": {},
   "outputs": [
    {
     "name": "stdout",
     "output_type": "stream",
     "text": [
      "(820, 101) (820,)\n",
      "(206, 101) (206,)\n"
     ]
    }
   ],
   "source": [
    "important = np.load('/home/doodhust/VsCodeProjects/EDA/important.npy')\n",
    "important_col = [important[i][0] for i in range(len(important))]\n",
    "important_col\n",
    "\n",
    "x_imp = df[important_col]\n",
    "\n",
    "x_imp_train, x_imp_test, y_train, y_test = train_test_split(x_imp, y, test_size=0.2, random_state=42)\n",
    "\n",
    "# размерность обучающей\n",
    "print(x_imp_train.shape, y_train.shape)\n",
    " \n",
    "# и тестовой выборки\n",
    "print(x_imp_test.shape, y_test.shape)\n"
   ]
  },
  {
   "cell_type": "code",
   "execution_count": 79,
   "metadata": {},
   "outputs": [
    {
     "data": {
      "text/plain": [
       "154879.52140061362"
      ]
     },
     "execution_count": 79,
     "metadata": {},
     "output_type": "execute_result"
    }
   ],
   "source": [
    "lr_imp = LinearRegression()\n",
    "\n",
    "lr_imp.fit(x_imp_train, y_train)\n",
    "\n",
    "y_imp_pred = lr_imp.predict(x_imp_test)\n",
    "\n",
    "mae_imp = mean_absolute_error(y_test, y_imp_pred)\n",
    "\n",
    "\n",
    "mae_error_original_imp = scaler_target.inverse_transform([[mae_imp]])[0][0]\n",
    "\n",
    "mae_error_original_imp"
   ]
  },
  {
   "cell_type": "markdown",
   "metadata": {},
   "source": []
  }
 ],
 "metadata": {
  "kernelspec": {
   "display_name": "Python 3",
   "language": "python",
   "name": "python3"
  },
  "language_info": {
   "codemirror_mode": {
    "name": "ipython",
    "version": 3
   },
   "file_extension": ".py",
   "mimetype": "text/x-python",
   "name": "python",
   "nbconvert_exporter": "python",
   "pygments_lexer": "ipython3",
   "version": "3.11.9"
  }
 },
 "nbformat": 4,
 "nbformat_minor": 2
}
