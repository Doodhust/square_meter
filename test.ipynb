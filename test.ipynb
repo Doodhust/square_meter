{
 "cells": [
  {
   "cell_type": "code",
   "execution_count": 17,
   "id": "566386a2",
   "metadata": {},
   "outputs": [
    {
     "name": "stdout",
     "output_type": "stream",
     "text": [
      "               ЖК Статус           Регион         Месяц\n",
      "0     Тепло 37875   Сдан  Приморский край   Январь 2021\n",
      "1  Брусника 23456   Сдан  Приморский край  Февраль 2021\n",
      "2     Тепло 37875   Сдан  Приморский край     Март 2021\n",
      "3  Брусника 23456   Сдан  Приморский край   Январь 2021\n",
      "4     Тепло 37875   Сдан  Приморский край  Февраль 2021\n",
      "5  Брусника 23456   Сдан  Приморский край     Март 2021\n",
      "\n",
      "               ЖК  Количество квартир Вид из окна\n",
      "0     Тепло 37875                 344          Да\n",
      "1  Брусника 23456                 255         Нет\n"
     ]
    },
    {
     "data": {
      "text/plain": [
       "<pandas.core.indexing._iLocIndexer at 0x7fb66ffd6cb0>"
      ]
     },
     "execution_count": 17,
     "metadata": {},
     "output_type": "execute_result"
    }
   ],
   "source": [
    "import pandas as pd\n",
    "\n",
    "# Создаем DataFrame из предоставленных данных\n",
    "data = {\n",
    "    'ЖК': ['Тепло 37875', 'Брусника 23456'] * 3,\n",
    "    'Статус': ['Сдан'] * 6,\n",
    "    'Регион': ['Приморский край'] * 6,\n",
    "    # ... добавьте остальные столбцы данных ...\n",
    "    'Месяц': ['Январь 2021', 'Февраль 2021', 'Март 2021',] * 2,\n",
    "    # ... добавьте остальные столбцы данных ...\n",
    "}\n",
    "\n",
    "df = pd.DataFrame(data)\n",
    "\n",
    "data_2 = {\n",
    "    'ЖК': ['Тепло 37875', 'Брусника 23456'],\n",
    "    'Количество квартир': [344, 255],\n",
    "    'Вид из окна': ['Да', 'Нет']\n",
    "}\n",
    "\n",
    "df_2 = pd.DataFrame(data_2)\n",
    "print(df, df_2, sep='\\n\\n')\n",
    "\n",
    "\n",
    "result_df = pd.merge(df, df_2, on='ЖК', how='left')\n",
    "result_df.iloc(1)"
   ]
  }
 ],
 "metadata": {
  "kernelspec": {
   "display_name": "Python 3 (ipykernel)",
   "language": "python",
   "name": "python3"
  },
  "language_info": {
   "codemirror_mode": {
    "name": "ipython",
    "version": 3
   },
   "file_extension": ".py",
   "mimetype": "text/x-python",
   "name": "python",
   "nbconvert_exporter": "python",
   "pygments_lexer": "ipython3",
   "version": "3.11.9"
  }
 },
 "nbformat": 4,
 "nbformat_minor": 5
}
